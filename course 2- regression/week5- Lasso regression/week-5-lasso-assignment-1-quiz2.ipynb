{
 "cells": [
  {
   "cell_type": "markdown",
   "metadata": {},
   "source": [
    "# Regression Week 5: Feature Selection and LASSO (Interpretation)"
   ]
  },
  {
   "cell_type": "markdown",
   "metadata": {},
   "source": [
    "In this notebook, you will use LASSO to select features, building on a pre-implemented solver for LASSO (using GraphLab Create, though you can use other solvers). You will:\n",
    "* Run LASSO with different L1 penalties.\n",
    "* Choose best L1 penalty using a validation set.\n",
    "* Choose best L1 penalty using a validation set, with additional constraint on the size of subset.\n",
    "\n",
    "In the second notebook, you will implement your own LASSO solver, using coordinate descent. "
   ]
  },
  {
   "cell_type": "markdown",
   "metadata": {},
   "source": [
    "# Fire up graphlab create"
   ]
  },
  {
   "cell_type": "code",
   "execution_count": 1,
   "metadata": {
    "collapsed": true
   },
   "outputs": [],
   "source": [
    "import graphlab"
   ]
  },
  {
   "cell_type": "markdown",
   "metadata": {},
   "source": [
    "# Load in house sales data\n",
    "\n",
    "Dataset is from house sales in King County, the region where the city of Seattle, WA is located."
   ]
  },
  {
   "cell_type": "code",
   "execution_count": 2,
   "metadata": {
    "collapsed": false,
    "scrolled": true
   },
   "outputs": [
    {
     "name": "stderr",
     "output_type": "stream",
     "text": [
      "[INFO] GraphLab Create v1.8.2 started. Logging: /tmp/graphlab_server_1456579106.log\n"
     ]
    }
   ],
   "source": [
    "sales = graphlab.SFrame('kc_house_data.gl/')"
   ]
  },
  {
   "cell_type": "markdown",
   "metadata": {},
   "source": [
    "# Create new features"
   ]
  },
  {
   "cell_type": "markdown",
   "metadata": {},
   "source": [
    "As in Week 2, we consider features that are some transformations of inputs."
   ]
  },
  {
   "cell_type": "code",
   "execution_count": 3,
   "metadata": {
    "collapsed": true
   },
   "outputs": [],
   "source": [
    "from math import log, sqrt\n",
    "sales['sqft_living_sqrt'] = sales['sqft_living'].apply(sqrt)\n",
    "sales['sqft_lot_sqrt'] = sales['sqft_lot'].apply(sqrt)\n",
    "sales['bedrooms_square'] = sales['bedrooms']*sales['bedrooms']\n",
    "\n",
    "# In the dataset, 'floors' was defined with type string, \n",
    "# so we'll convert them to float, before creating a new feature.\n",
    "sales['floors'] = sales['floors'].astype(float) \n",
    "sales['floors_square'] = sales['floors']*sales['floors']"
   ]
  },
  {
   "cell_type": "markdown",
   "metadata": {},
   "source": [
    "* Squaring bedrooms will increase the separation between not many bedrooms (e.g. 1) and lots of bedrooms (e.g. 4) since 1^2 = 1 but 4^2 = 16. Consequently this variable will mostly affect houses with many bedrooms.\n",
    "* On the other hand, taking square root of sqft_living will decrease the separation between big house and small house. The owner may not be exactly twice as happy for getting a house that is twice as big."
   ]
  },
  {
   "cell_type": "markdown",
   "metadata": {},
   "source": [
    "# Learn regression weights with L1 penalty"
   ]
  },
  {
   "cell_type": "markdown",
   "metadata": {},
   "source": [
    "Let us fit a model with all the features available, plus the features we just created above."
   ]
  },
  {
   "cell_type": "code",
   "execution_count": 4,
   "metadata": {
    "collapsed": false
   },
   "outputs": [],
   "source": [
    "all_features = ['bedrooms', 'bedrooms_square',\n",
    "            'bathrooms',\n",
    "            'sqft_living', 'sqft_living_sqrt',\n",
    "            'sqft_lot', 'sqft_lot_sqrt',\n",
    "            'floors', 'floors_square',\n",
    "            'waterfront', 'view', 'condition', 'grade',\n",
    "            'sqft_above',\n",
    "            'sqft_basement',\n",
    "            'yr_built', 'yr_renovated']"
   ]
  },
  {
   "cell_type": "markdown",
   "metadata": {},
   "source": [
    "Applying L1 penalty requires adding an extra parameter (`l1_penalty`) to the linear regression call in GraphLab Create. (Other tools may have separate implementations of LASSO.)  Note that it's important to set `l2_penalty=0` to ensure we don't introduce an additional L2 penalty."
   ]
  },
  {
   "cell_type": "code",
   "execution_count": 5,
   "metadata": {
    "collapsed": false
   },
   "outputs": [],
   "source": [
    "model_all = graphlab.linear_regression.create(sales, target='price', features=all_features,\n",
    "                                              validation_set=None, \n",
    "                                              l2_penalty=0., l1_penalty=1e10)"
   ]
  },
  {
   "cell_type": "markdown",
   "metadata": {},
   "source": [
    "Find what features had non-zero weight."
   ]
  },
  {
   "cell_type": "code",
   "execution_count": 40,
   "metadata": {
    "collapsed": false
   },
   "outputs": [
    {
     "name": "stdout",
     "output_type": "stream",
     "text": [
      "(intercept)\n",
      "bathrooms\n",
      "sqft_living\n",
      "sqft_living_sqrt\n",
      "grade\n",
      "sqft_above\n"
     ]
    }
   ],
   "source": [
    "feature_list = model_all.get(\"coefficients\")['name']\n",
    "coeff_list = model_all.get(\"coefficients\")['value']\n",
    "index = 0\n",
    "for coeff in coeff_list:\n",
    "    if coeff != 0.0:\n",
    "        print feature_list[index]\n",
    "    index += 1"
   ]
  },
  {
   "cell_type": "markdown",
   "metadata": {},
   "source": [
    "Note that a majority of the weights have been set to zero. So by setting an L1 penalty that's large enough, we are performing a subset selection. \n",
    "\n",
    "***QUIZ QUESTION***:\n",
    "According to this list of weights, which of the features have been chosen? "
   ]
  },
  {
   "cell_type": "markdown",
   "metadata": {},
   "source": [
    "# Selecting an L1 penalty"
   ]
  },
  {
   "cell_type": "markdown",
   "metadata": {},
   "source": [
    "To find a good L1 penalty, we will explore multiple values using a validation set. Let us do three way split into train, validation, and test sets:\n",
    "* Split our sales data into 2 sets: training and test\n",
    "* Further split our training data into two sets: train, validation\n",
    "\n",
    "Be *very* careful that you use seed = 1 to ensure you get the same answer!"
   ]
  },
  {
   "cell_type": "code",
   "execution_count": 8,
   "metadata": {
    "collapsed": true
   },
   "outputs": [],
   "source": [
    "(training_and_validation, testing) = sales.random_split(.9,seed=1) # initial train/test split\n",
    "(training, validation) = training_and_validation.random_split(0.5, seed=1) # split training into train and validate"
   ]
  },
  {
   "cell_type": "markdown",
   "metadata": {},
   "source": [
    "Next, we write a loop that does the following:\n",
    "* For `l1_penalty` in [10^1, 10^1.5, 10^2, 10^2.5, ..., 10^7] (to get this in Python, type `np.logspace(1, 7, num=13)`.)\n",
    "    * Fit a regression model with a given `l1_penalty` on TRAIN data. Specify `l1_penalty=l1_penalty` and `l2_penalty=0.` in the parameter list.\n",
    "    * Compute the RSS on VALIDATION data (here you will want to use `.predict()`) for that `l1_penalty`\n",
    "* Report which `l1_penalty` produced the lowest RSS on validation data.\n",
    "\n",
    "When you call `linear_regression.create()` make sure you set `validation_set = None`.\n",
    "\n",
    "Note: you can turn off the print out of `linear_regression.create()` with `verbose = False`"
   ]
  },
  {
   "cell_type": "code",
   "execution_count": 11,
   "metadata": {
    "collapsed": false
   },
   "outputs": [
    {
     "name": "stdout",
     "output_type": "stream",
     "text": [
      "l1 penality is  10.0\n",
      "RSS is  6.25766285142e+14\n",
      "l1 penality is  31.6227766017\n",
      "RSS is  6.25766285362e+14\n",
      "l1 penality is  100.0\n",
      "RSS is  6.25766286058e+14\n",
      "l1 penality is  316.227766017\n",
      "RSS is  6.25766288257e+14\n",
      "l1 penality is  1000.0\n",
      "RSS is  6.25766295212e+14\n",
      "l1 penality is  3162.27766017\n",
      "RSS is  6.25766317206e+14\n",
      "l1 penality is  10000.0\n",
      "RSS is  6.25766386761e+14\n",
      "l1 penality is  31622.7766017\n",
      "RSS is  6.25766606749e+14\n",
      "l1 penality is  100000.0\n",
      "RSS is  6.25767302792e+14\n",
      "l1 penality is  316227.766017\n",
      "RSS is  6.25769507644e+14\n",
      "l1 penality is  1000000.0\n",
      "RSS is  6.25776517727e+14\n",
      "l1 penality is  3162277.66017\n",
      "RSS is  6.25799062845e+14\n",
      "l1 penality is  10000000.0\n",
      "RSS is  6.25883719085e+14\n"
     ]
    }
   ],
   "source": [
    "def RSS(model):\n",
    "    prediction = model.predict(validation)\n",
    "    residual = validation['price'] - prediction\n",
    "    residual_squared = residual * residual\n",
    "    RSS = residual_squared.sum()\n",
    "    return RSS\n",
    "\n",
    "import numpy as np\n",
    "for l1 in np.logspace(1, 7, num=13):\n",
    "    model = graphlab.linear_regression.create(training, target='price', features=all_features,\n",
    "                                              validation_set=None, verbose = False,\n",
    "                                              l2_penalty=0., l1_penalty=l1)\n",
    "    print 'l1 penality is ', str(l1)\n",
    "    print 'RSS is ', str(RSS(model))"
   ]
  },
  {
   "cell_type": "code",
   "execution_count": 13,
   "metadata": {
    "collapsed": false
   },
   "outputs": [
    {
     "name": "stdout",
     "output_type": "stream",
     "text": [
      "+------------------+-------+------------------+--------+\n",
      "|       name       | index |      value       | stderr |\n",
      "+------------------+-------+------------------+--------+\n",
      "|   (intercept)    |  None |  18993.4272128   |  None  |\n",
      "|     bedrooms     |  None |  7936.96767903   |  None  |\n",
      "| bedrooms_square  |  None |  936.993368193   |  None  |\n",
      "|    bathrooms     |  None |  25409.5889341   |  None  |\n",
      "|   sqft_living    |  None |  39.1151363797   |  None  |\n",
      "| sqft_living_sqrt |  None |  1124.65021281   |  None  |\n",
      "|     sqft_lot     |  None | 0.00348361822299 |  None  |\n",
      "|  sqft_lot_sqrt   |  None |  148.258391011   |  None  |\n",
      "|      floors      |  None |   21204.335467   |  None  |\n",
      "|  floors_square   |  None |  12915.5243361   |  None  |\n",
      "+------------------+-------+------------------+--------+\n",
      "[18 rows x 4 columns]\n",
      "Note: Only the head of the SFrame is printed.\n",
      "You can use print_rows(num_rows=m, num_columns=n) to print more rows and columns.\n"
     ]
    }
   ],
   "source": [
    "l1 = 10\n",
    "best_model = graphlab.linear_regression.create(training, target='price', features=all_features,\n",
    "                                         validation_set=None, verbose = False,\n",
    "                                         l2_penalty=0., l1_penalty=l1)"
   ]
  },
  {
   "cell_type": "markdown",
   "metadata": {},
   "source": [
    "*** QUIZ QUESTIONS ***\n",
    "1. What was the best value for the `l1_penalty`?\n",
    "2. What is the RSS on TEST data of the model with the best `l1_penalty`?"
   ]
  },
  {
   "cell_type": "code",
   "execution_count": 15,
   "metadata": {
    "collapsed": false
   },
   "outputs": [
    {
     "name": "stdout",
     "output_type": "stream",
     "text": [
      "6.25766285142e+14\n"
     ]
    }
   ],
   "source": [
    "print RSS(best_model)"
   ]
  },
  {
   "cell_type": "markdown",
   "metadata": {},
   "source": [
    "***QUIZ QUESTION***\n",
    "Also, using this value of L1 penalty, how many nonzero weights do you have?"
   ]
  },
  {
   "cell_type": "code",
   "execution_count": 21,
   "metadata": {
    "collapsed": false
   },
   "outputs": [
    {
     "name": "stdout",
     "output_type": "stream",
     "text": [
      "+------------------+-------+------------------+--------+\n",
      "|       name       | index |      value       | stderr |\n",
      "+------------------+-------+------------------+--------+\n",
      "|   (intercept)    |  None |  18993.4272128   |  None  |\n",
      "|     bedrooms     |  None |  7936.96767903   |  None  |\n",
      "| bedrooms_square  |  None |  936.993368193   |  None  |\n",
      "|    bathrooms     |  None |  25409.5889341   |  None  |\n",
      "|   sqft_living    |  None |  39.1151363797   |  None  |\n",
      "| sqft_living_sqrt |  None |  1124.65021281   |  None  |\n",
      "|     sqft_lot     |  None | 0.00348361822299 |  None  |\n",
      "|  sqft_lot_sqrt   |  None |  148.258391011   |  None  |\n",
      "|      floors      |  None |   21204.335467   |  None  |\n",
      "|  floors_square   |  None |  12915.5243361   |  None  |\n",
      "+------------------+-------+------------------+--------+\n",
      "[18 rows x 4 columns]\n",
      "Note: Only the head of the SFrame is printed.\n",
      "You can use print_rows(num_rows=m, num_columns=n) to print more rows and columns.\n"
     ]
    }
   ],
   "source": [
    "print best_model.get(\"coefficients\")"
   ]
  },
  {
   "cell_type": "markdown",
   "metadata": {},
   "source": [
    "# Limit the number of nonzero weights\n",
    "\n",
    "What if we absolutely wanted to limit ourselves to, say, 7 features? This may be important if we want to derive \"a rule of thumb\" --- an interpretable model that has only a few features in them."
   ]
  },
  {
   "cell_type": "markdown",
   "metadata": {},
   "source": [
    "In this section, you are going to implement a simple, two phase procedure to achive this goal:\n",
    "1. Explore a large range of `l1_penalty` values to find a narrow region of `l1_penalty` values where models are likely to have the desired number of non-zero weights.\n",
    "2. Further explore the narrow region you found to find a good value for `l1_penalty` that achieves the desired sparsity.  Here, we will again use a validation set to choose the best value for `l1_penalty`."
   ]
  },
  {
   "cell_type": "code",
   "execution_count": 16,
   "metadata": {
    "collapsed": true
   },
   "outputs": [],
   "source": [
    "max_nonzeros = 7"
   ]
  },
  {
   "cell_type": "markdown",
   "metadata": {},
   "source": [
    "## Exploring the larger range of values to find a narrow range with the desired sparsity\n",
    "\n",
    "Let's define a wide range of possible `l1_penalty_values`:"
   ]
  },
  {
   "cell_type": "code",
   "execution_count": 17,
   "metadata": {
    "collapsed": false
   },
   "outputs": [],
   "source": [
    "l1_penalty_values = np.logspace(8, 10, num=20)"
   ]
  },
  {
   "cell_type": "markdown",
   "metadata": {},
   "source": [
    "Now, implement a loop that search through this space of possible `l1_penalty` values:\n",
    "\n",
    "* For `l1_penalty` in `np.logspace(8, 10, num=20)`:\n",
    "    * Fit a regression model with a given `l1_penalty` on TRAIN data. Specify `l1_penalty=l1_penalty` and `l2_penalty=0.` in the parameter list. When you call `linear_regression.create()` make sure you set `validation_set = None`\n",
    "    * Extract the weights of the model and count the number of nonzeros. Save the number of nonzeros to a list.\n",
    "        * *Hint: `model['coefficients']['value']` gives you an SArray with the parameters you learned.  If you call the method `.nnz()` on it, you will find the number of non-zero parameters!* "
   ]
  },
  {
   "cell_type": "code",
   "execution_count": 25,
   "metadata": {
    "collapsed": false
   },
   "outputs": [
    {
     "name": "stdout",
     "output_type": "stream",
     "text": [
      "[18, 18, 18, 18, 17, 17, 17, 17, 17, 16, 15, 15, 13, 12, 10, 6, 5, 3, 1, 1]\n"
     ]
    }
   ],
   "source": [
    "nonzeros = []\n",
    "for l1 in l1_penalty_values:\n",
    "    model = graphlab.linear_regression.create(training, target='price', features=all_features,\n",
    "                                              validation_set=None, verbose = False,\n",
    "                                              l2_penalty=0., l1_penalty=l1)\n",
    "    coeff = model['coefficients']['value']\n",
    "    nonzeros.append(coeff.nnz())\n",
    "print nonzeros"
   ]
  },
  {
   "cell_type": "markdown",
   "metadata": {},
   "source": [
    "Out of this large range, we want to find the two ends of our desired narrow range of `l1_penalty`.  At one end, we will have `l1_penalty` values that have too few non-zeros, and at the other end, we will have an `l1_penalty` that has too many non-zeros.  \n",
    "\n",
    "More formally, find:\n",
    "* The largest `l1_penalty` that has more non-zeros than `max_nonzero` (if we pick a penalty smaller than this value, we will definitely have too many non-zero weights)\n",
    "    * Store this value in the variable `l1_penalty_min` (we will use it later)\n",
    "* The smallest `l1_penalty` that has fewer non-zeros than `max_nonzero` (if we pick a penalty larger than this value, we will definitely have too few non-zero weights)\n",
    "    * Store this value in the variable `l1_penalty_max` (we will use it later)\n",
    "\n",
    "\n",
    "*Hint: there are many ways to do this, e.g.:*\n",
    "* Programmatically within the loop above\n",
    "* Creating a list with the number of non-zeros for each value of `l1_penalty` and inspecting it to find the appropriate boundaries."
   ]
  },
  {
   "cell_type": "code",
   "execution_count": 26,
   "metadata": {
    "collapsed": false
   },
   "outputs": [
    {
     "name": "stdout",
     "output_type": "stream",
     "text": [
      "2976351441.63 3792690190.73\n"
     ]
    }
   ],
   "source": [
    "l1_penalty_min = l1_penalty_values[nonzeros.index(10)]\n",
    "l1_penalty_max = l1_penalty_values[nonzeros.index(6)]\n",
    "print l1_penalty_min, l1_penalty_max"
   ]
  },
  {
   "cell_type": "markdown",
   "metadata": {},
   "source": [
    "***QUIZ QUESTIONS***\n",
    "\n",
    "What values did you find for `l1_penalty_min` and`l1_penalty_max`? "
   ]
  },
  {
   "cell_type": "markdown",
   "metadata": {},
   "source": [
    "## Exploring the narrow range of values to find the solution with the right number of non-zeros that has lowest RSS on the validation set \n",
    "\n",
    "We will now explore the narrow region of `l1_penalty` values we found:"
   ]
  },
  {
   "cell_type": "code",
   "execution_count": null,
   "metadata": {
    "collapsed": true
   },
   "outputs": [],
   "source": [
    "l1_penalty_values = np.linspace(l1_penalty_min,l1_penalty_max,20)"
   ]
  },
  {
   "cell_type": "markdown",
   "metadata": {},
   "source": [
    "* For `l1_penalty` in `np.linspace(l1_penalty_min,l1_penalty_max,20)`:\n",
    "    * Fit a regression model with a given `l1_penalty` on TRAIN data. Specify `l1_penalty=l1_penalty` and `l2_penalty=0.` in the parameter list. When you call `linear_regression.create()` make sure you set `validation_set = None`\n",
    "    * Measure the RSS of the learned model on the VALIDATION set\n",
    "\n",
    "Find the model that the lowest RSS on the VALIDATION set and has sparsity *equal* to `max_nonzero`."
   ]
  },
  {
   "cell_type": "code",
   "execution_count": 30,
   "metadata": {
    "collapsed": false
   },
   "outputs": [
    {
     "name": "stdout",
     "output_type": "stream",
     "text": [
      "2976351441.63\n",
      "nonzero weights number: 10\n",
      "RSS: 9.66925692362e+14\n",
      "3019316638.95\n",
      "nonzero weights number: 10\n",
      "RSS: 9.74019450085e+14\n",
      "3062281836.27\n",
      "nonzero weights number: 10\n",
      "RSS: 9.81188367942e+14\n",
      "3105247033.59\n",
      "nonzero weights number: 10\n",
      "RSS: 9.89328342459e+14\n",
      "3148212230.92\n",
      "nonzero weights number: 10\n",
      "RSS: 9.98783211266e+14\n",
      "3191177428.24\n",
      "nonzero weights number: 10\n",
      "RSS: 1.00847716702e+15\n",
      "3234142625.56\n",
      "nonzero weights number: 10\n",
      "RSS: 1.01829878055e+15\n",
      "3277107822.88\n",
      "nonzero weights number: 10\n",
      "RSS: 1.02824799221e+15\n",
      "3320073020.2\n",
      "nonzero weights number: 8\n",
      "RSS: 1.03461690923e+15\n",
      "3363038217.52\n",
      "nonzero weights number: 8\n",
      "RSS: 1.03855473594e+15\n",
      "3406003414.84\n",
      "nonzero weights number: 8\n",
      "RSS: 1.04323723787e+15\n",
      "3448968612.16\n",
      "nonzero weights number: 7\n",
      "RSS: 1.04693748875e+15\n",
      "3491933809.48\n",
      "nonzero weights number: 7\n",
      "RSS: 1.05114762561e+15\n",
      "3534899006.81\n",
      "nonzero weights number: 7\n",
      "RSS: 1.05599273534e+15\n",
      "3577864204.13\n",
      "nonzero weights number: 7\n",
      "RSS: 1.06079953176e+15\n",
      "3620829401.45\n",
      "nonzero weights number: 6\n",
      "RSS: 1.0657076895e+15\n",
      "3663794598.77\n",
      "nonzero weights number: 6\n",
      "RSS: 1.06946433543e+15\n",
      "3706759796.09\n",
      "nonzero weights number: 6\n",
      "RSS: 1.07350454959e+15\n",
      "3749724993.41\n",
      "nonzero weights number: 6\n",
      "RSS: 1.07763277558e+15\n",
      "3792690190.73\n",
      "nonzero weights number: 6\n",
      "RSS: 1.08186759232e+15\n"
     ]
    }
   ],
   "source": [
    "for l1_penalty in np.linspace(l1_penalty_min,l1_penalty_max,20):\n",
    "    model = graphlab.linear_regression.create(training, target='price', features=all_features,\n",
    "                                              validation_set=None, verbose = False,\n",
    "                                              l2_penalty=0., l1_penalty=l1_penalty)\n",
    "    nonzero_weights = model['coefficients']['value'].nnz()\n",
    "    print l1_penalty\n",
    "    print 'nonzero weights number: ' + str(nonzero_weights)\n",
    "    print 'RSS: ' + str(RSS(model))"
   ]
  },
  {
   "cell_type": "markdown",
   "metadata": {},
   "source": [
    "***QUIZ QUESTIONS***\n",
    "1. What value of `l1_penalty` in our narrow range has the lowest RSS on the VALIDATION set and has sparsity *equal* to `max_nonzeros`?\n",
    "2. What features in this model have non-zero coefficients?"
   ]
  },
  {
   "cell_type": "code",
   "execution_count": 43,
   "metadata": {
    "collapsed": false
   },
   "outputs": [
    {
     "name": "stdout",
     "output_type": "stream",
     "text": [
      "(intercept)\n",
      "bedrooms\n",
      "bathrooms\n",
      "sqft_living\n",
      "sqft_living_sqrt\n",
      "grade\n",
      "sqft_above\n"
     ]
    }
   ],
   "source": [
    "l1_penalty = np.linspace(l1_penalty_min,l1_penalty_max,20)[11]\n",
    "best_model2 = graphlab.linear_regression.create(training, target='price', features=all_features,\n",
    "                                               validation_set=None, verbose = False,\n",
    "                                               l2_penalty=0., l1_penalty=l1_penalty)\n",
    "feature_list = best_model2.get(\"coefficients\")['name']\n",
    "coeff_list = best_model2.get(\"coefficients\")['value']\n",
    "#print best_model2['coefficients']['value'].nnz()\n",
    "index = 0\n",
    "for coeff in coeff_list:\n",
    "    if coeff != 0.0:\n",
    "        print feature_list[index]\n",
    "    index += 1"
   ]
  },
  {
   "cell_type": "code",
   "execution_count": null,
   "metadata": {
    "collapsed": true
   },
   "outputs": [],
   "source": []
  }
 ],
 "metadata": {
  "kernelspec": {
   "display_name": "Python 2",
   "language": "python",
   "name": "python2"
  },
  "language_info": {
   "codemirror_mode": {
    "name": "ipython",
    "version": 2
   },
   "file_extension": ".py",
   "mimetype": "text/x-python",
   "name": "python",
   "nbconvert_exporter": "python",
   "pygments_lexer": "ipython2",
   "version": "2.7.11"
  }
 },
 "nbformat": 4,
 "nbformat_minor": 0
}
