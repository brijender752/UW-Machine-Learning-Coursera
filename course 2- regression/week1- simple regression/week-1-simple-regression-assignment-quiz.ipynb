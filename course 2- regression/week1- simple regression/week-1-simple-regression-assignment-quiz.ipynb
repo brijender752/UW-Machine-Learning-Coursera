{
 "cells": [
  {
   "cell_type": "markdown",
   "metadata": {},
   "source": [
    "# Regression Week 1: Simple Linear Regression"
   ]
  },
  {
   "cell_type": "markdown",
   "metadata": {},
   "source": [
    "In this notebook we will use data on house sales in King County to predict house prices using simple (one input) linear regression. You will:\n",
    "* Use graphlab SArray and SFrame functions to compute important summary statistics\n",
    "* Write a function to compute the Simple Linear Regression weights using the closed form solution\n",
    "* Write a function to make predictions of the output given the input feature\n",
    "* Turn the regression around to predict the input given the output\n",
    "* Compare two different models for predicting house prices\n",
    "\n",
    "In this notebook you will be provided with some already complete code as well as some code that you should complete yourself in order to answer quiz questions. The code we provide to complte is optional and is there to assist you with solving the problems but feel free to ignore the helper code and write your own."
   ]
  },
  {
   "cell_type": "markdown",
   "metadata": {},
   "source": [
    "# Fire up graphlab create"
   ]
  },
  {
   "cell_type": "code",
   "execution_count": 1,
   "metadata": {
    "collapsed": false
   },
   "outputs": [],
   "source": [
    "import graphlab"
   ]
  },
  {
   "cell_type": "markdown",
   "metadata": {},
   "source": [
    "# Load house sales data\n",
    "\n",
    "Dataset is from house sales in King County, the region where the city of Seattle, WA is located."
   ]
  },
  {
   "cell_type": "code",
   "execution_count": 2,
   "metadata": {
    "collapsed": false
   },
   "outputs": [
    {
     "name": "stderr",
     "output_type": "stream",
     "text": [
      "[INFO] This non-commercial license of GraphLab Create is assigned to gracedongy@gmail.com and will expire on December 27, 2016. For commercial licensing options, visit https://dato.com/buy/.\n",
      "\n",
      "[INFO] Start server at: ipc:///tmp/graphlab_server-2649 - Server binary: /Users/hzdy1994/anaconda/lib/python2.7/site-packages/graphlab/unity_server - Server log: /tmp/graphlab_server_1454675001.log\n",
      "[INFO] GraphLab Server Version: 1.8.1\n"
     ]
    }
   ],
   "source": [
    "sales = graphlab.SFrame('kc_house_data.gl/')"
   ]
  },
  {
   "cell_type": "code",
   "execution_count": 3,
   "metadata": {
    "collapsed": false
   },
   "outputs": [
    {
     "data": {
      "text/html": [
       "<div style=\"max-height:1000px;max-width:1500px;overflow:auto;\"><table frame=\"box\" rules=\"cols\">\n",
       "    <tr>\n",
       "        <th style=\"padding-left: 1em; padding-right: 1em; text-align: center\">id</th>\n",
       "        <th style=\"padding-left: 1em; padding-right: 1em; text-align: center\">date</th>\n",
       "        <th style=\"padding-left: 1em; padding-right: 1em; text-align: center\">price</th>\n",
       "        <th style=\"padding-left: 1em; padding-right: 1em; text-align: center\">bedrooms</th>\n",
       "        <th style=\"padding-left: 1em; padding-right: 1em; text-align: center\">bathrooms</th>\n",
       "        <th style=\"padding-left: 1em; padding-right: 1em; text-align: center\">sqft_living</th>\n",
       "        <th style=\"padding-left: 1em; padding-right: 1em; text-align: center\">sqft_lot</th>\n",
       "        <th style=\"padding-left: 1em; padding-right: 1em; text-align: center\">floors</th>\n",
       "        <th style=\"padding-left: 1em; padding-right: 1em; text-align: center\">waterfront</th>\n",
       "    </tr>\n",
       "    <tr>\n",
       "        <td style=\"padding-left: 1em; padding-right: 1em; text-align: center; vertical-align: top\">7129300520</td>\n",
       "        <td style=\"padding-left: 1em; padding-right: 1em; text-align: center; vertical-align: top\">2014-10-13 00:00:00+00:00</td>\n",
       "        <td style=\"padding-left: 1em; padding-right: 1em; text-align: center; vertical-align: top\">221900.0</td>\n",
       "        <td style=\"padding-left: 1em; padding-right: 1em; text-align: center; vertical-align: top\">3.0</td>\n",
       "        <td style=\"padding-left: 1em; padding-right: 1em; text-align: center; vertical-align: top\">1.0</td>\n",
       "        <td style=\"padding-left: 1em; padding-right: 1em; text-align: center; vertical-align: top\">1180.0</td>\n",
       "        <td style=\"padding-left: 1em; padding-right: 1em; text-align: center; vertical-align: top\">5650</td>\n",
       "        <td style=\"padding-left: 1em; padding-right: 1em; text-align: center; vertical-align: top\">1</td>\n",
       "        <td style=\"padding-left: 1em; padding-right: 1em; text-align: center; vertical-align: top\">0</td>\n",
       "    </tr>\n",
       "    <tr>\n",
       "        <td style=\"padding-left: 1em; padding-right: 1em; text-align: center; vertical-align: top\">6414100192</td>\n",
       "        <td style=\"padding-left: 1em; padding-right: 1em; text-align: center; vertical-align: top\">2014-12-09 00:00:00+00:00</td>\n",
       "        <td style=\"padding-left: 1em; padding-right: 1em; text-align: center; vertical-align: top\">538000.0</td>\n",
       "        <td style=\"padding-left: 1em; padding-right: 1em; text-align: center; vertical-align: top\">3.0</td>\n",
       "        <td style=\"padding-left: 1em; padding-right: 1em; text-align: center; vertical-align: top\">2.25</td>\n",
       "        <td style=\"padding-left: 1em; padding-right: 1em; text-align: center; vertical-align: top\">2570.0</td>\n",
       "        <td style=\"padding-left: 1em; padding-right: 1em; text-align: center; vertical-align: top\">7242</td>\n",
       "        <td style=\"padding-left: 1em; padding-right: 1em; text-align: center; vertical-align: top\">2</td>\n",
       "        <td style=\"padding-left: 1em; padding-right: 1em; text-align: center; vertical-align: top\">0</td>\n",
       "    </tr>\n",
       "    <tr>\n",
       "        <td style=\"padding-left: 1em; padding-right: 1em; text-align: center; vertical-align: top\">5631500400</td>\n",
       "        <td style=\"padding-left: 1em; padding-right: 1em; text-align: center; vertical-align: top\">2015-02-25 00:00:00+00:00</td>\n",
       "        <td style=\"padding-left: 1em; padding-right: 1em; text-align: center; vertical-align: top\">180000.0</td>\n",
       "        <td style=\"padding-left: 1em; padding-right: 1em; text-align: center; vertical-align: top\">2.0</td>\n",
       "        <td style=\"padding-left: 1em; padding-right: 1em; text-align: center; vertical-align: top\">1.0</td>\n",
       "        <td style=\"padding-left: 1em; padding-right: 1em; text-align: center; vertical-align: top\">770.0</td>\n",
       "        <td style=\"padding-left: 1em; padding-right: 1em; text-align: center; vertical-align: top\">10000</td>\n",
       "        <td style=\"padding-left: 1em; padding-right: 1em; text-align: center; vertical-align: top\">1</td>\n",
       "        <td style=\"padding-left: 1em; padding-right: 1em; text-align: center; vertical-align: top\">0</td>\n",
       "    </tr>\n",
       "    <tr>\n",
       "        <td style=\"padding-left: 1em; padding-right: 1em; text-align: center; vertical-align: top\">2487200875</td>\n",
       "        <td style=\"padding-left: 1em; padding-right: 1em; text-align: center; vertical-align: top\">2014-12-09 00:00:00+00:00</td>\n",
       "        <td style=\"padding-left: 1em; padding-right: 1em; text-align: center; vertical-align: top\">604000.0</td>\n",
       "        <td style=\"padding-left: 1em; padding-right: 1em; text-align: center; vertical-align: top\">4.0</td>\n",
       "        <td style=\"padding-left: 1em; padding-right: 1em; text-align: center; vertical-align: top\">3.0</td>\n",
       "        <td style=\"padding-left: 1em; padding-right: 1em; text-align: center; vertical-align: top\">1960.0</td>\n",
       "        <td style=\"padding-left: 1em; padding-right: 1em; text-align: center; vertical-align: top\">5000</td>\n",
       "        <td style=\"padding-left: 1em; padding-right: 1em; text-align: center; vertical-align: top\">1</td>\n",
       "        <td style=\"padding-left: 1em; padding-right: 1em; text-align: center; vertical-align: top\">0</td>\n",
       "    </tr>\n",
       "    <tr>\n",
       "        <td style=\"padding-left: 1em; padding-right: 1em; text-align: center; vertical-align: top\">1954400510</td>\n",
       "        <td style=\"padding-left: 1em; padding-right: 1em; text-align: center; vertical-align: top\">2015-02-18 00:00:00+00:00</td>\n",
       "        <td style=\"padding-left: 1em; padding-right: 1em; text-align: center; vertical-align: top\">510000.0</td>\n",
       "        <td style=\"padding-left: 1em; padding-right: 1em; text-align: center; vertical-align: top\">3.0</td>\n",
       "        <td style=\"padding-left: 1em; padding-right: 1em; text-align: center; vertical-align: top\">2.0</td>\n",
       "        <td style=\"padding-left: 1em; padding-right: 1em; text-align: center; vertical-align: top\">1680.0</td>\n",
       "        <td style=\"padding-left: 1em; padding-right: 1em; text-align: center; vertical-align: top\">8080</td>\n",
       "        <td style=\"padding-left: 1em; padding-right: 1em; text-align: center; vertical-align: top\">1</td>\n",
       "        <td style=\"padding-left: 1em; padding-right: 1em; text-align: center; vertical-align: top\">0</td>\n",
       "    </tr>\n",
       "    <tr>\n",
       "        <td style=\"padding-left: 1em; padding-right: 1em; text-align: center; vertical-align: top\">7237550310</td>\n",
       "        <td style=\"padding-left: 1em; padding-right: 1em; text-align: center; vertical-align: top\">2014-05-12 00:00:00+00:00</td>\n",
       "        <td style=\"padding-left: 1em; padding-right: 1em; text-align: center; vertical-align: top\">1225000.0</td>\n",
       "        <td style=\"padding-left: 1em; padding-right: 1em; text-align: center; vertical-align: top\">4.0</td>\n",
       "        <td style=\"padding-left: 1em; padding-right: 1em; text-align: center; vertical-align: top\">4.5</td>\n",
       "        <td style=\"padding-left: 1em; padding-right: 1em; text-align: center; vertical-align: top\">5420.0</td>\n",
       "        <td style=\"padding-left: 1em; padding-right: 1em; text-align: center; vertical-align: top\">101930</td>\n",
       "        <td style=\"padding-left: 1em; padding-right: 1em; text-align: center; vertical-align: top\">1</td>\n",
       "        <td style=\"padding-left: 1em; padding-right: 1em; text-align: center; vertical-align: top\">0</td>\n",
       "    </tr>\n",
       "    <tr>\n",
       "        <td style=\"padding-left: 1em; padding-right: 1em; text-align: center; vertical-align: top\">1321400060</td>\n",
       "        <td style=\"padding-left: 1em; padding-right: 1em; text-align: center; vertical-align: top\">2014-06-27 00:00:00+00:00</td>\n",
       "        <td style=\"padding-left: 1em; padding-right: 1em; text-align: center; vertical-align: top\">257500.0</td>\n",
       "        <td style=\"padding-left: 1em; padding-right: 1em; text-align: center; vertical-align: top\">3.0</td>\n",
       "        <td style=\"padding-left: 1em; padding-right: 1em; text-align: center; vertical-align: top\">2.25</td>\n",
       "        <td style=\"padding-left: 1em; padding-right: 1em; text-align: center; vertical-align: top\">1715.0</td>\n",
       "        <td style=\"padding-left: 1em; padding-right: 1em; text-align: center; vertical-align: top\">6819</td>\n",
       "        <td style=\"padding-left: 1em; padding-right: 1em; text-align: center; vertical-align: top\">2</td>\n",
       "        <td style=\"padding-left: 1em; padding-right: 1em; text-align: center; vertical-align: top\">0</td>\n",
       "    </tr>\n",
       "    <tr>\n",
       "        <td style=\"padding-left: 1em; padding-right: 1em; text-align: center; vertical-align: top\">2008000270</td>\n",
       "        <td style=\"padding-left: 1em; padding-right: 1em; text-align: center; vertical-align: top\">2015-01-15 00:00:00+00:00</td>\n",
       "        <td style=\"padding-left: 1em; padding-right: 1em; text-align: center; vertical-align: top\">291850.0</td>\n",
       "        <td style=\"padding-left: 1em; padding-right: 1em; text-align: center; vertical-align: top\">3.0</td>\n",
       "        <td style=\"padding-left: 1em; padding-right: 1em; text-align: center; vertical-align: top\">1.5</td>\n",
       "        <td style=\"padding-left: 1em; padding-right: 1em; text-align: center; vertical-align: top\">1060.0</td>\n",
       "        <td style=\"padding-left: 1em; padding-right: 1em; text-align: center; vertical-align: top\">9711</td>\n",
       "        <td style=\"padding-left: 1em; padding-right: 1em; text-align: center; vertical-align: top\">1</td>\n",
       "        <td style=\"padding-left: 1em; padding-right: 1em; text-align: center; vertical-align: top\">0</td>\n",
       "    </tr>\n",
       "    <tr>\n",
       "        <td style=\"padding-left: 1em; padding-right: 1em; text-align: center; vertical-align: top\">2414600126</td>\n",
       "        <td style=\"padding-left: 1em; padding-right: 1em; text-align: center; vertical-align: top\">2015-04-15 00:00:00+00:00</td>\n",
       "        <td style=\"padding-left: 1em; padding-right: 1em; text-align: center; vertical-align: top\">229500.0</td>\n",
       "        <td style=\"padding-left: 1em; padding-right: 1em; text-align: center; vertical-align: top\">3.0</td>\n",
       "        <td style=\"padding-left: 1em; padding-right: 1em; text-align: center; vertical-align: top\">1.0</td>\n",
       "        <td style=\"padding-left: 1em; padding-right: 1em; text-align: center; vertical-align: top\">1780.0</td>\n",
       "        <td style=\"padding-left: 1em; padding-right: 1em; text-align: center; vertical-align: top\">7470</td>\n",
       "        <td style=\"padding-left: 1em; padding-right: 1em; text-align: center; vertical-align: top\">1</td>\n",
       "        <td style=\"padding-left: 1em; padding-right: 1em; text-align: center; vertical-align: top\">0</td>\n",
       "    </tr>\n",
       "    <tr>\n",
       "        <td style=\"padding-left: 1em; padding-right: 1em; text-align: center; vertical-align: top\">3793500160</td>\n",
       "        <td style=\"padding-left: 1em; padding-right: 1em; text-align: center; vertical-align: top\">2015-03-12 00:00:00+00:00</td>\n",
       "        <td style=\"padding-left: 1em; padding-right: 1em; text-align: center; vertical-align: top\">323000.0</td>\n",
       "        <td style=\"padding-left: 1em; padding-right: 1em; text-align: center; vertical-align: top\">3.0</td>\n",
       "        <td style=\"padding-left: 1em; padding-right: 1em; text-align: center; vertical-align: top\">2.5</td>\n",
       "        <td style=\"padding-left: 1em; padding-right: 1em; text-align: center; vertical-align: top\">1890.0</td>\n",
       "        <td style=\"padding-left: 1em; padding-right: 1em; text-align: center; vertical-align: top\">6560</td>\n",
       "        <td style=\"padding-left: 1em; padding-right: 1em; text-align: center; vertical-align: top\">2</td>\n",
       "        <td style=\"padding-left: 1em; padding-right: 1em; text-align: center; vertical-align: top\">0</td>\n",
       "    </tr>\n",
       "</table>\n",
       "<table frame=\"box\" rules=\"cols\">\n",
       "    <tr>\n",
       "        <th style=\"padding-left: 1em; padding-right: 1em; text-align: center\">view</th>\n",
       "        <th style=\"padding-left: 1em; padding-right: 1em; text-align: center\">condition</th>\n",
       "        <th style=\"padding-left: 1em; padding-right: 1em; text-align: center\">grade</th>\n",
       "        <th style=\"padding-left: 1em; padding-right: 1em; text-align: center\">sqft_above</th>\n",
       "        <th style=\"padding-left: 1em; padding-right: 1em; text-align: center\">sqft_basement</th>\n",
       "        <th style=\"padding-left: 1em; padding-right: 1em; text-align: center\">yr_built</th>\n",
       "        <th style=\"padding-left: 1em; padding-right: 1em; text-align: center\">yr_renovated</th>\n",
       "        <th style=\"padding-left: 1em; padding-right: 1em; text-align: center\">zipcode</th>\n",
       "        <th style=\"padding-left: 1em; padding-right: 1em; text-align: center\">lat</th>\n",
       "    </tr>\n",
       "    <tr>\n",
       "        <td style=\"padding-left: 1em; padding-right: 1em; text-align: center; vertical-align: top\">0</td>\n",
       "        <td style=\"padding-left: 1em; padding-right: 1em; text-align: center; vertical-align: top\">3</td>\n",
       "        <td style=\"padding-left: 1em; padding-right: 1em; text-align: center; vertical-align: top\">7</td>\n",
       "        <td style=\"padding-left: 1em; padding-right: 1em; text-align: center; vertical-align: top\">1180</td>\n",
       "        <td style=\"padding-left: 1em; padding-right: 1em; text-align: center; vertical-align: top\">0</td>\n",
       "        <td style=\"padding-left: 1em; padding-right: 1em; text-align: center; vertical-align: top\">1955</td>\n",
       "        <td style=\"padding-left: 1em; padding-right: 1em; text-align: center; vertical-align: top\">0</td>\n",
       "        <td style=\"padding-left: 1em; padding-right: 1em; text-align: center; vertical-align: top\">98178</td>\n",
       "        <td style=\"padding-left: 1em; padding-right: 1em; text-align: center; vertical-align: top\">47.51123398</td>\n",
       "    </tr>\n",
       "    <tr>\n",
       "        <td style=\"padding-left: 1em; padding-right: 1em; text-align: center; vertical-align: top\">0</td>\n",
       "        <td style=\"padding-left: 1em; padding-right: 1em; text-align: center; vertical-align: top\">3</td>\n",
       "        <td style=\"padding-left: 1em; padding-right: 1em; text-align: center; vertical-align: top\">7</td>\n",
       "        <td style=\"padding-left: 1em; padding-right: 1em; text-align: center; vertical-align: top\">2170</td>\n",
       "        <td style=\"padding-left: 1em; padding-right: 1em; text-align: center; vertical-align: top\">400</td>\n",
       "        <td style=\"padding-left: 1em; padding-right: 1em; text-align: center; vertical-align: top\">1951</td>\n",
       "        <td style=\"padding-left: 1em; padding-right: 1em; text-align: center; vertical-align: top\">1991</td>\n",
       "        <td style=\"padding-left: 1em; padding-right: 1em; text-align: center; vertical-align: top\">98125</td>\n",
       "        <td style=\"padding-left: 1em; padding-right: 1em; text-align: center; vertical-align: top\">47.72102274</td>\n",
       "    </tr>\n",
       "    <tr>\n",
       "        <td style=\"padding-left: 1em; padding-right: 1em; text-align: center; vertical-align: top\">0</td>\n",
       "        <td style=\"padding-left: 1em; padding-right: 1em; text-align: center; vertical-align: top\">3</td>\n",
       "        <td style=\"padding-left: 1em; padding-right: 1em; text-align: center; vertical-align: top\">6</td>\n",
       "        <td style=\"padding-left: 1em; padding-right: 1em; text-align: center; vertical-align: top\">770</td>\n",
       "        <td style=\"padding-left: 1em; padding-right: 1em; text-align: center; vertical-align: top\">0</td>\n",
       "        <td style=\"padding-left: 1em; padding-right: 1em; text-align: center; vertical-align: top\">1933</td>\n",
       "        <td style=\"padding-left: 1em; padding-right: 1em; text-align: center; vertical-align: top\">0</td>\n",
       "        <td style=\"padding-left: 1em; padding-right: 1em; text-align: center; vertical-align: top\">98028</td>\n",
       "        <td style=\"padding-left: 1em; padding-right: 1em; text-align: center; vertical-align: top\">47.73792661</td>\n",
       "    </tr>\n",
       "    <tr>\n",
       "        <td style=\"padding-left: 1em; padding-right: 1em; text-align: center; vertical-align: top\">0</td>\n",
       "        <td style=\"padding-left: 1em; padding-right: 1em; text-align: center; vertical-align: top\">5</td>\n",
       "        <td style=\"padding-left: 1em; padding-right: 1em; text-align: center; vertical-align: top\">7</td>\n",
       "        <td style=\"padding-left: 1em; padding-right: 1em; text-align: center; vertical-align: top\">1050</td>\n",
       "        <td style=\"padding-left: 1em; padding-right: 1em; text-align: center; vertical-align: top\">910</td>\n",
       "        <td style=\"padding-left: 1em; padding-right: 1em; text-align: center; vertical-align: top\">1965</td>\n",
       "        <td style=\"padding-left: 1em; padding-right: 1em; text-align: center; vertical-align: top\">0</td>\n",
       "        <td style=\"padding-left: 1em; padding-right: 1em; text-align: center; vertical-align: top\">98136</td>\n",
       "        <td style=\"padding-left: 1em; padding-right: 1em; text-align: center; vertical-align: top\">47.52082</td>\n",
       "    </tr>\n",
       "    <tr>\n",
       "        <td style=\"padding-left: 1em; padding-right: 1em; text-align: center; vertical-align: top\">0</td>\n",
       "        <td style=\"padding-left: 1em; padding-right: 1em; text-align: center; vertical-align: top\">3</td>\n",
       "        <td style=\"padding-left: 1em; padding-right: 1em; text-align: center; vertical-align: top\">8</td>\n",
       "        <td style=\"padding-left: 1em; padding-right: 1em; text-align: center; vertical-align: top\">1680</td>\n",
       "        <td style=\"padding-left: 1em; padding-right: 1em; text-align: center; vertical-align: top\">0</td>\n",
       "        <td style=\"padding-left: 1em; padding-right: 1em; text-align: center; vertical-align: top\">1987</td>\n",
       "        <td style=\"padding-left: 1em; padding-right: 1em; text-align: center; vertical-align: top\">0</td>\n",
       "        <td style=\"padding-left: 1em; padding-right: 1em; text-align: center; vertical-align: top\">98074</td>\n",
       "        <td style=\"padding-left: 1em; padding-right: 1em; text-align: center; vertical-align: top\">47.61681228</td>\n",
       "    </tr>\n",
       "    <tr>\n",
       "        <td style=\"padding-left: 1em; padding-right: 1em; text-align: center; vertical-align: top\">0</td>\n",
       "        <td style=\"padding-left: 1em; padding-right: 1em; text-align: center; vertical-align: top\">3</td>\n",
       "        <td style=\"padding-left: 1em; padding-right: 1em; text-align: center; vertical-align: top\">11</td>\n",
       "        <td style=\"padding-left: 1em; padding-right: 1em; text-align: center; vertical-align: top\">3890</td>\n",
       "        <td style=\"padding-left: 1em; padding-right: 1em; text-align: center; vertical-align: top\">1530</td>\n",
       "        <td style=\"padding-left: 1em; padding-right: 1em; text-align: center; vertical-align: top\">2001</td>\n",
       "        <td style=\"padding-left: 1em; padding-right: 1em; text-align: center; vertical-align: top\">0</td>\n",
       "        <td style=\"padding-left: 1em; padding-right: 1em; text-align: center; vertical-align: top\">98053</td>\n",
       "        <td style=\"padding-left: 1em; padding-right: 1em; text-align: center; vertical-align: top\">47.65611835</td>\n",
       "    </tr>\n",
       "    <tr>\n",
       "        <td style=\"padding-left: 1em; padding-right: 1em; text-align: center; vertical-align: top\">0</td>\n",
       "        <td style=\"padding-left: 1em; padding-right: 1em; text-align: center; vertical-align: top\">3</td>\n",
       "        <td style=\"padding-left: 1em; padding-right: 1em; text-align: center; vertical-align: top\">7</td>\n",
       "        <td style=\"padding-left: 1em; padding-right: 1em; text-align: center; vertical-align: top\">1715</td>\n",
       "        <td style=\"padding-left: 1em; padding-right: 1em; text-align: center; vertical-align: top\">0</td>\n",
       "        <td style=\"padding-left: 1em; padding-right: 1em; text-align: center; vertical-align: top\">1995</td>\n",
       "        <td style=\"padding-left: 1em; padding-right: 1em; text-align: center; vertical-align: top\">0</td>\n",
       "        <td style=\"padding-left: 1em; padding-right: 1em; text-align: center; vertical-align: top\">98003</td>\n",
       "        <td style=\"padding-left: 1em; padding-right: 1em; text-align: center; vertical-align: top\">47.30972002</td>\n",
       "    </tr>\n",
       "    <tr>\n",
       "        <td style=\"padding-left: 1em; padding-right: 1em; text-align: center; vertical-align: top\">0</td>\n",
       "        <td style=\"padding-left: 1em; padding-right: 1em; text-align: center; vertical-align: top\">3</td>\n",
       "        <td style=\"padding-left: 1em; padding-right: 1em; text-align: center; vertical-align: top\">7</td>\n",
       "        <td style=\"padding-left: 1em; padding-right: 1em; text-align: center; vertical-align: top\">1060</td>\n",
       "        <td style=\"padding-left: 1em; padding-right: 1em; text-align: center; vertical-align: top\">0</td>\n",
       "        <td style=\"padding-left: 1em; padding-right: 1em; text-align: center; vertical-align: top\">1963</td>\n",
       "        <td style=\"padding-left: 1em; padding-right: 1em; text-align: center; vertical-align: top\">0</td>\n",
       "        <td style=\"padding-left: 1em; padding-right: 1em; text-align: center; vertical-align: top\">98198</td>\n",
       "        <td style=\"padding-left: 1em; padding-right: 1em; text-align: center; vertical-align: top\">47.40949984</td>\n",
       "    </tr>\n",
       "    <tr>\n",
       "        <td style=\"padding-left: 1em; padding-right: 1em; text-align: center; vertical-align: top\">0</td>\n",
       "        <td style=\"padding-left: 1em; padding-right: 1em; text-align: center; vertical-align: top\">3</td>\n",
       "        <td style=\"padding-left: 1em; padding-right: 1em; text-align: center; vertical-align: top\">7</td>\n",
       "        <td style=\"padding-left: 1em; padding-right: 1em; text-align: center; vertical-align: top\">1050</td>\n",
       "        <td style=\"padding-left: 1em; padding-right: 1em; text-align: center; vertical-align: top\">730</td>\n",
       "        <td style=\"padding-left: 1em; padding-right: 1em; text-align: center; vertical-align: top\">1960</td>\n",
       "        <td style=\"padding-left: 1em; padding-right: 1em; text-align: center; vertical-align: top\">0</td>\n",
       "        <td style=\"padding-left: 1em; padding-right: 1em; text-align: center; vertical-align: top\">98146</td>\n",
       "        <td style=\"padding-left: 1em; padding-right: 1em; text-align: center; vertical-align: top\">47.51229381</td>\n",
       "    </tr>\n",
       "    <tr>\n",
       "        <td style=\"padding-left: 1em; padding-right: 1em; text-align: center; vertical-align: top\">0</td>\n",
       "        <td style=\"padding-left: 1em; padding-right: 1em; text-align: center; vertical-align: top\">3</td>\n",
       "        <td style=\"padding-left: 1em; padding-right: 1em; text-align: center; vertical-align: top\">7</td>\n",
       "        <td style=\"padding-left: 1em; padding-right: 1em; text-align: center; vertical-align: top\">1890</td>\n",
       "        <td style=\"padding-left: 1em; padding-right: 1em; text-align: center; vertical-align: top\">0</td>\n",
       "        <td style=\"padding-left: 1em; padding-right: 1em; text-align: center; vertical-align: top\">2003</td>\n",
       "        <td style=\"padding-left: 1em; padding-right: 1em; text-align: center; vertical-align: top\">0</td>\n",
       "        <td style=\"padding-left: 1em; padding-right: 1em; text-align: center; vertical-align: top\">98038</td>\n",
       "        <td style=\"padding-left: 1em; padding-right: 1em; text-align: center; vertical-align: top\">47.36840673</td>\n",
       "    </tr>\n",
       "</table>\n",
       "<table frame=\"box\" rules=\"cols\">\n",
       "    <tr>\n",
       "        <th style=\"padding-left: 1em; padding-right: 1em; text-align: center\">long</th>\n",
       "        <th style=\"padding-left: 1em; padding-right: 1em; text-align: center\">sqft_living15</th>\n",
       "        <th style=\"padding-left: 1em; padding-right: 1em; text-align: center\">sqft_lot15</th>\n",
       "    </tr>\n",
       "    <tr>\n",
       "        <td style=\"padding-left: 1em; padding-right: 1em; text-align: center; vertical-align: top\">-122.25677536</td>\n",
       "        <td style=\"padding-left: 1em; padding-right: 1em; text-align: center; vertical-align: top\">1340.0</td>\n",
       "        <td style=\"padding-left: 1em; padding-right: 1em; text-align: center; vertical-align: top\">5650.0</td>\n",
       "    </tr>\n",
       "    <tr>\n",
       "        <td style=\"padding-left: 1em; padding-right: 1em; text-align: center; vertical-align: top\">-122.3188624</td>\n",
       "        <td style=\"padding-left: 1em; padding-right: 1em; text-align: center; vertical-align: top\">1690.0</td>\n",
       "        <td style=\"padding-left: 1em; padding-right: 1em; text-align: center; vertical-align: top\">7639.0</td>\n",
       "    </tr>\n",
       "    <tr>\n",
       "        <td style=\"padding-left: 1em; padding-right: 1em; text-align: center; vertical-align: top\">-122.23319601</td>\n",
       "        <td style=\"padding-left: 1em; padding-right: 1em; text-align: center; vertical-align: top\">2720.0</td>\n",
       "        <td style=\"padding-left: 1em; padding-right: 1em; text-align: center; vertical-align: top\">8062.0</td>\n",
       "    </tr>\n",
       "    <tr>\n",
       "        <td style=\"padding-left: 1em; padding-right: 1em; text-align: center; vertical-align: top\">-122.39318505</td>\n",
       "        <td style=\"padding-left: 1em; padding-right: 1em; text-align: center; vertical-align: top\">1360.0</td>\n",
       "        <td style=\"padding-left: 1em; padding-right: 1em; text-align: center; vertical-align: top\">5000.0</td>\n",
       "    </tr>\n",
       "    <tr>\n",
       "        <td style=\"padding-left: 1em; padding-right: 1em; text-align: center; vertical-align: top\">-122.04490059</td>\n",
       "        <td style=\"padding-left: 1em; padding-right: 1em; text-align: center; vertical-align: top\">1800.0</td>\n",
       "        <td style=\"padding-left: 1em; padding-right: 1em; text-align: center; vertical-align: top\">7503.0</td>\n",
       "    </tr>\n",
       "    <tr>\n",
       "        <td style=\"padding-left: 1em; padding-right: 1em; text-align: center; vertical-align: top\">-122.00528655</td>\n",
       "        <td style=\"padding-left: 1em; padding-right: 1em; text-align: center; vertical-align: top\">4760.0</td>\n",
       "        <td style=\"padding-left: 1em; padding-right: 1em; text-align: center; vertical-align: top\">101930.0</td>\n",
       "    </tr>\n",
       "    <tr>\n",
       "        <td style=\"padding-left: 1em; padding-right: 1em; text-align: center; vertical-align: top\">-122.32704857</td>\n",
       "        <td style=\"padding-left: 1em; padding-right: 1em; text-align: center; vertical-align: top\">2238.0</td>\n",
       "        <td style=\"padding-left: 1em; padding-right: 1em; text-align: center; vertical-align: top\">6819.0</td>\n",
       "    </tr>\n",
       "    <tr>\n",
       "        <td style=\"padding-left: 1em; padding-right: 1em; text-align: center; vertical-align: top\">-122.31457273</td>\n",
       "        <td style=\"padding-left: 1em; padding-right: 1em; text-align: center; vertical-align: top\">1650.0</td>\n",
       "        <td style=\"padding-left: 1em; padding-right: 1em; text-align: center; vertical-align: top\">9711.0</td>\n",
       "    </tr>\n",
       "    <tr>\n",
       "        <td style=\"padding-left: 1em; padding-right: 1em; text-align: center; vertical-align: top\">-122.33659507</td>\n",
       "        <td style=\"padding-left: 1em; padding-right: 1em; text-align: center; vertical-align: top\">1780.0</td>\n",
       "        <td style=\"padding-left: 1em; padding-right: 1em; text-align: center; vertical-align: top\">8113.0</td>\n",
       "    </tr>\n",
       "    <tr>\n",
       "        <td style=\"padding-left: 1em; padding-right: 1em; text-align: center; vertical-align: top\">-122.0308176</td>\n",
       "        <td style=\"padding-left: 1em; padding-right: 1em; text-align: center; vertical-align: top\">2390.0</td>\n",
       "        <td style=\"padding-left: 1em; padding-right: 1em; text-align: center; vertical-align: top\">7570.0</td>\n",
       "    </tr>\n",
       "</table>\n",
       "[21613 rows x 21 columns]<br/>Note: Only the head of the SFrame is printed.<br/>You can use print_rows(num_rows=m, num_columns=n) to print more rows and columns.\n",
       "</div>"
      ],
      "text/plain": [
       "Columns:\n",
       "\tid\tstr\n",
       "\tdate\tdatetime\n",
       "\tprice\tfloat\n",
       "\tbedrooms\tfloat\n",
       "\tbathrooms\tfloat\n",
       "\tsqft_living\tfloat\n",
       "\tsqft_lot\tint\n",
       "\tfloors\tstr\n",
       "\twaterfront\tint\n",
       "\tview\tint\n",
       "\tcondition\tint\n",
       "\tgrade\tint\n",
       "\tsqft_above\tint\n",
       "\tsqft_basement\tint\n",
       "\tyr_built\tint\n",
       "\tyr_renovated\tint\n",
       "\tzipcode\tstr\n",
       "\tlat\tfloat\n",
       "\tlong\tfloat\n",
       "\tsqft_living15\tfloat\n",
       "\tsqft_lot15\tfloat\n",
       "\n",
       "Rows: 21613\n",
       "\n",
       "Data:\n",
       "+------------+---------------------------+-----------+----------+-----------+\n",
       "|     id     |            date           |   price   | bedrooms | bathrooms |\n",
       "+------------+---------------------------+-----------+----------+-----------+\n",
       "| 7129300520 | 2014-10-13 00:00:00+00:00 |  221900.0 |   3.0    |    1.0    |\n",
       "| 6414100192 | 2014-12-09 00:00:00+00:00 |  538000.0 |   3.0    |    2.25   |\n",
       "| 5631500400 | 2015-02-25 00:00:00+00:00 |  180000.0 |   2.0    |    1.0    |\n",
       "| 2487200875 | 2014-12-09 00:00:00+00:00 |  604000.0 |   4.0    |    3.0    |\n",
       "| 1954400510 | 2015-02-18 00:00:00+00:00 |  510000.0 |   3.0    |    2.0    |\n",
       "| 7237550310 | 2014-05-12 00:00:00+00:00 | 1225000.0 |   4.0    |    4.5    |\n",
       "| 1321400060 | 2014-06-27 00:00:00+00:00 |  257500.0 |   3.0    |    2.25   |\n",
       "| 2008000270 | 2015-01-15 00:00:00+00:00 |  291850.0 |   3.0    |    1.5    |\n",
       "| 2414600126 | 2015-04-15 00:00:00+00:00 |  229500.0 |   3.0    |    1.0    |\n",
       "| 3793500160 | 2015-03-12 00:00:00+00:00 |  323000.0 |   3.0    |    2.5    |\n",
       "+------------+---------------------------+-----------+----------+-----------+\n",
       "+-------------+----------+--------+------------+------+-----------+-------+------------+\n",
       "| sqft_living | sqft_lot | floors | waterfront | view | condition | grade | sqft_above |\n",
       "+-------------+----------+--------+------------+------+-----------+-------+------------+\n",
       "|    1180.0   |   5650   |   1    |     0      |  0   |     3     |   7   |    1180    |\n",
       "|    2570.0   |   7242   |   2    |     0      |  0   |     3     |   7   |    2170    |\n",
       "|    770.0    |  10000   |   1    |     0      |  0   |     3     |   6   |    770     |\n",
       "|    1960.0   |   5000   |   1    |     0      |  0   |     5     |   7   |    1050    |\n",
       "|    1680.0   |   8080   |   1    |     0      |  0   |     3     |   8   |    1680    |\n",
       "|    5420.0   |  101930  |   1    |     0      |  0   |     3     |   11  |    3890    |\n",
       "|    1715.0   |   6819   |   2    |     0      |  0   |     3     |   7   |    1715    |\n",
       "|    1060.0   |   9711   |   1    |     0      |  0   |     3     |   7   |    1060    |\n",
       "|    1780.0   |   7470   |   1    |     0      |  0   |     3     |   7   |    1050    |\n",
       "|    1890.0   |   6560   |   2    |     0      |  0   |     3     |   7   |    1890    |\n",
       "+-------------+----------+--------+------------+------+-----------+-------+------------+\n",
       "+---------------+----------+--------------+---------+-------------+\n",
       "| sqft_basement | yr_built | yr_renovated | zipcode |     lat     |\n",
       "+---------------+----------+--------------+---------+-------------+\n",
       "|       0       |   1955   |      0       |  98178  | 47.51123398 |\n",
       "|      400      |   1951   |     1991     |  98125  | 47.72102274 |\n",
       "|       0       |   1933   |      0       |  98028  | 47.73792661 |\n",
       "|      910      |   1965   |      0       |  98136  |   47.52082  |\n",
       "|       0       |   1987   |      0       |  98074  | 47.61681228 |\n",
       "|      1530     |   2001   |      0       |  98053  | 47.65611835 |\n",
       "|       0       |   1995   |      0       |  98003  | 47.30972002 |\n",
       "|       0       |   1963   |      0       |  98198  | 47.40949984 |\n",
       "|      730      |   1960   |      0       |  98146  | 47.51229381 |\n",
       "|       0       |   2003   |      0       |  98038  | 47.36840673 |\n",
       "+---------------+----------+--------------+---------+-------------+\n",
       "+---------------+---------------+-----+\n",
       "|      long     | sqft_living15 | ... |\n",
       "+---------------+---------------+-----+\n",
       "| -122.25677536 |     1340.0    | ... |\n",
       "|  -122.3188624 |     1690.0    | ... |\n",
       "| -122.23319601 |     2720.0    | ... |\n",
       "| -122.39318505 |     1360.0    | ... |\n",
       "| -122.04490059 |     1800.0    | ... |\n",
       "| -122.00528655 |     4760.0    | ... |\n",
       "| -122.32704857 |     2238.0    | ... |\n",
       "| -122.31457273 |     1650.0    | ... |\n",
       "| -122.33659507 |     1780.0    | ... |\n",
       "|  -122.0308176 |     2390.0    | ... |\n",
       "+---------------+---------------+-----+\n",
       "[21613 rows x 21 columns]\n",
       "Note: Only the head of the SFrame is printed.\n",
       "You can use print_rows(num_rows=m, num_columns=n) to print more rows and columns."
      ]
     },
     "execution_count": 3,
     "metadata": {},
     "output_type": "execute_result"
    }
   ],
   "source": [
    "sales"
   ]
  },
  {
   "cell_type": "code",
   "execution_count": 4,
   "metadata": {
    "collapsed": false
   },
   "outputs": [
    {
     "data": {
      "application/javascript": [
       "$(\"head\").append($(\"<link/>\").attr({\n",
       "  rel:  \"stylesheet\",\n",
       "  type: \"text/css\",\n",
       "  href: \"//cdnjs.cloudflare.com/ajax/libs/font-awesome/4.1.0/css/font-awesome.min.css\"\n",
       "}));\n",
       "$(\"head\").append($(\"<link/>\").attr({\n",
       "  rel:  \"stylesheet\",\n",
       "  type: \"text/css\",\n",
       "  href: \"//dato.com/files/canvas/1.8.1/css/canvas.css\"\n",
       "}));\n",
       "\n",
       "            (function(){\n",
       "\n",
       "                var e = null;\n",
       "                if (typeof element == 'undefined') {\n",
       "                    var scripts = document.getElementsByTagName('script');\n",
       "                    var thisScriptTag = scripts[scripts.length-1];\n",
       "                    var parentDiv = thisScriptTag.parentNode;\n",
       "                    e = document.createElement('div');\n",
       "                    parentDiv.appendChild(e);\n",
       "                } else {\n",
       "                    e = element[0];\n",
       "                }\n",
       "\n",
       "                if (typeof requirejs !== 'undefined') {\n",
       "                    // disable load timeout; ipython_app.js is large and can take a while to load.\n",
       "                    requirejs.config({waitSeconds: 0});\n",
       "                }\n",
       "\n",
       "                require(['//dato.com/files/canvas/1.8.1/js/ipython_app.js'], function(IPythonApp){\n",
       "                    var app = new IPythonApp();\n",
       "                    app.attachView('sframe','Plots', {\"selected_variable\": {\"name\": [\"sales\"], \"descriptives\": {\"rows\": 21613, \"columns\": 21}, \"view_component\": \"Plots\", \"view_file\": \"sframe\", \"view_params\": {\"y\": \"price\", \"x\": \"sqft_living\", \"columns\": [\"id\", \"date\", \"price\", \"bedrooms\", \"bathrooms\", \"sqft_living\", \"sqft_lot\", \"floors\", \"waterfront\", \"view\", \"condition\", \"grade\", \"sqft_above\", \"sqft_basement\", \"yr_built\", \"yr_renovated\", \"zipcode\", \"lat\", \"long\", \"sqft_living15\", \"sqft_lot15\"], \"view\": \"Scatter Plot\"}, \"view_components\": [\"Summary\", \"Table\", \"Bar Chart\", \"BoxWhisker Plot\", \"Line Chart\", \"Scatter Plot\", \"Heat Map\", \"Plots\"], \"type\": \"SFrame\", \"columns\": [{\"dtype\": \"str\", \"name\": \"id\"}, {\"dtype\": \"datetime\", \"name\": \"date\"}, {\"dtype\": \"float\", \"name\": \"price\"}, {\"dtype\": \"float\", \"name\": \"bedrooms\"}, {\"dtype\": \"float\", \"name\": \"bathrooms\"}, {\"dtype\": \"float\", \"name\": \"sqft_living\"}, {\"dtype\": \"int\", \"name\": \"sqft_lot\"}, {\"dtype\": \"str\", \"name\": \"floors\"}, {\"dtype\": \"int\", \"name\": \"waterfront\"}, {\"dtype\": \"int\", \"name\": \"view\"}, {\"dtype\": \"int\", \"name\": \"condition\"}, {\"dtype\": \"int\", \"name\": \"grade\"}, {\"dtype\": \"int\", \"name\": \"sqft_above\"}, {\"dtype\": \"int\", \"name\": \"sqft_basement\"}, {\"dtype\": \"int\", \"name\": \"yr_built\"}, {\"dtype\": \"int\", \"name\": \"yr_renovated\"}, {\"dtype\": \"str\", \"name\": \"zipcode\"}, {\"dtype\": \"float\", \"name\": \"lat\"}, {\"dtype\": \"float\", \"name\": \"long\"}, {\"dtype\": \"float\", \"name\": \"sqft_living15\"}, {\"dtype\": \"float\", \"name\": \"sqft_lot15\"}], \"column_identifiers\": [\"bathrooms\", \"sqft_living15\", \"sqft_above\", \"grade\", \"yr_built\", \"price\", \"bedrooms\", \"zipcode\", \"long\", \"id\", \"sqft_lot15\", \"sqft_living\", \"floors\", \"sqft_lot\", \"date\", \"waterfront\", \"sqft_basement\", \"yr_renovated\", \"lat\", \"condition\", \"view\"]}, \"complete\": 1, \"ipython\": true, \"progress\": 1.0, \"data\": [[1300.0, 462000.0], [1570.0, 299990.0], [4050.0, 925000.0], [3530.0, 695000.0], [1070.0, 505000.0], [1610.0, 180000.0], [5220.0, 1565000.0], [1530.0, 379000.0], [1050.0, 325000.0], [2473.0, 343000.0], [2090.0, 489000.0], [1140.0, 358000.0], [3610.0, 982000.0], [1650.0, 752000.0], [3610.0, 830005.0], [2020.0, 401000.0], [5190.0, 2900000.0], [3980.0, 1582500.0], [1660.0, 254000.0], [1690.0, 338000.0], [1620.0, 385000.0], [1840.0, 366000.0], [2690.0, 979000.0], [2530.0, 720000.0], [1880.0, 452000.0], [2630.0, 778000.0], [2670.0, 415000.0], [1400.0, 667000.0], [2600.0, 300000.0], [2490.0, 550000.0], [1410.0, 520000.0], [850.0, 150000.0], [1210.0, 237000.0], [2906.0, 418395.0], [2430.0, 770000.0], [2190.0, 375000.0], [2110.0, 435000.0], [2360.0, 640000.0], [2620.0, 672000.0], [5850.0, 1700000.0], [1700.0, 511718.0], [2040.0, 525000.0], [2110.0, 725000.0], [2390.0, 516250.0], [1700.0, 616300.0], [3360.0, 590000.0], [1510.0, 465000.0], [1780.0, 245000.0], [1250.0, 450000.0], [1150.0, 430000.0], [3070.0, 1295000.0], [1720.0, 550000.0], [1880.0, 380000.0], [3540.0, 784000.0], [2150.0, 609000.0], [2400.0, 839000.0], [1370.0, 276000.0], [1830.0, 323000.0], [2770.0, 804000.0], [730.0, 316000.0], [1190.0, 277140.0], [3520.0, 795000.0], [1530.0, 375000.0], [3750.0, 1310000.0], [1460.0, 497000.0], [1960.0, 285500.0], [1500.0, 736000.0], [3710.0, 635000.0], [2070.0, 470000.0], [3200.0, 1325000.0], [2303.0, 300000.0], [1260.0, 325000.0], [1270.0, 570000.0], [2870.0, 650000.0], [2200.0, 375000.0], [1110.0, 610000.0], [1440.0, 500000.0], [1520.0, 310000.0], [2480.0, 583800.0], [1384.0, 575000.0], [3190.0, 419000.0], [1230.0, 435000.0], [2860.0, 1225000.0], [3560.0, 1364000.0], [1720.0, 490000.0], [3180.0, 510000.0], [2280.0, 539500.0], [2770.0, 461000.0], [3140.0, 401500.0], [1420.0, 500000.0], [3070.0, 462000.0], [4580.0, 2000000.0], [2650.0, 352000.0], [3310.0, 695000.0], [2320.0, 610000.0], [2410.0, 320000.0], [2600.0, 250000.0], [1160.0, 199000.0], [3410.0, 649000.0], [2680.0, 501000.0], [950.0, 395000.0], [1750.0, 660000.0], [2760.0, 575000.0], [1980.0, 711000.0], [1470.0, 241000.0], [3490.0, 1620000.0], [1000.0, 357500.0], [1430.0, 235000.0], [2300.0, 325000.0], [3090.0, 1170000.0], [1790.0, 338000.0], [1800.0, 495000.0], [1740.0, 429950.0], [3140.0, 780000.0], [1910.0, 850000.0], [4660.0, 739000.0], [1370.0, 354800.0], [2320.0, 447500.0], [2760.0, 1185000.0], [3620.0, 394000.0], [1010.0, 145000.0], [1720.0, 365000.0], [1540.0, 270000.0], [1720.0, 713500.0], [1070.0, 346000.0], [2460.0, 280000.0], [1190.0, 195000.0], [2580.0, 326000.0], [2440.0, 425000.0], [2290.0, 625000.0], [3130.0, 1389000.0], [3340.0, 808000.0], [2060.0, 624950.0], [3150.0, 1206505.0], [1270.0, 369950.0], [2420.0, 700000.0], [2200.0, 410000.0], [1120.0, 266000.0], [1790.0, 546000.0], [2910.0, 605000.0], [2080.0, 969500.0], [3500.0, 1075000.0], [2420.0, 441500.0], [1510.0, 430000.0], [2440.0, 510000.0], [2330.0, 630000.0], [4010.0, 1735000.0], [2370.0, 510000.0], [1100.0, 450000.0], [2660.0, 1240000.0], [2770.0, 347000.0], [1950.0, 385000.0], [1860.0, 625000.0], [2110.0, 327000.0], [2680.0, 300000.0], [1500.0, 614950.0], [2200.0, 472000.0], [2200.0, 689000.0], [1330.0, 375000.0], [1850.0, 469500.0], [2060.0, 255000.0], [1210.0, 239000.0], [3150.0, 614000.0], [1950.0, 510000.0], [1560.0, 579000.0], [800.0, 110000.0], [890.0, 328000.0], [1520.0, 288000.0], [2880.0, 775000.0], [880.0, 312500.0], [1490.0, 309000.0], [2180.0, 488000.0], [2540.0, 355000.0], [1050.0, 310000.0], [1530.0, 425000.0], [2230.0, 305000.0], [2030.0, 565000.0], [2330.0, 690000.0], [2740.0, 648000.0], [1864.0, 235000.0], [2920.0, 1065000.0], [2780.0, 690000.0], [950.0, 430000.0], [1920.0, 475000.0], [3170.0, 1035000.0], [1120.0, 100000.0], [2423.0, 290000.0], [2530.0, 700000.0], [2210.0, 507000.0], [2600.0, 310000.0], [1650.0, 305000.0], [1910.0, 609850.0], [1350.0, 405500.0], [3670.0, 1250000.0], [1330.0, 374500.0], [1190.0, 245000.0], [1440.0, 332500.0], [2070.0, 395000.0], [1300.0, 562500.0], [810.0, 235000.0], [1010.0, 215000.0], [1690.0, 405000.0], [1270.0, 445700.0], [1300.0, 226500.0], [2060.0, 500000.0], [3870.0, 645000.0], [2520.0, 610000.0], [1200.0, 210000.0], [1380.0, 455000.0], [3370.0, 675000.0], [1290.0, 205000.0], [3380.0, 1430000.0], [3500.0, 917000.0], [2110.0, 780000.0], [1810.0, 326500.0], [1280.0, 170000.0], [1780.0, 1000000.0], [1270.0, 347000.0], [1140.0, 218000.0], [1530.0, 536000.0], [4440.0, 600000.0], [1900.0, 200000.0], [840.0, 151100.0], [1240.0, 427500.0], [1320.0, 268950.0], [2460.0, 563225.0], [2750.0, 1030000.0], [1360.0, 550000.0], [1300.0, 225000.0], [1380.0, 230000.0], [1610.0, 319502.0], [1440.0, 499950.0], [2400.0, 650000.0], [2770.0, 470000.0], [2190.0, 418500.0], [2820.0, 810000.0], [1390.0, 354000.0], [3830.0, 599999.0], [1400.0, 389000.0], [2050.0, 535000.0], [2590.0, 533000.0], [4160.0, 530000.0], [3340.0, 810000.0], [2430.0, 425000.0], [2140.0, 409500.0], [3500.0, 840000.0], [1820.0, 465000.0], [1450.0, 234950.0], [3060.0, 715000.0], [790.0, 375000.0], [3320.0, 959000.0], [750.0, 292500.0], [2820.0, 456700.0], [2960.0, 550000.0], [1740.0, 335000.0], [1490.0, 312500.0], [640.0, 426000.0], [2720.0, 875000.0], [1790.0, 410000.0], [1940.0, 287000.0], [1750.0, 491300.0], [2940.0, 1600000.0], [2120.0, 278000.0], [2230.0, 398750.0], [2370.0, 545000.0], [1990.0, 450000.0], [2200.0, 290000.0], [2910.0, 915000.0], [1260.0, 220000.0], [2140.0, 362950.0], [5310.0, 1365000.0], [1570.0, 414950.0], [2600.0, 425000.0], [1230.0, 195500.0], [2060.0, 647500.0], [1600.0, 299950.0], [910.0, 221000.0], [1590.0, 572500.0], [1390.0, 589000.0], [730.0, 122000.0], [3880.0, 1126000.0], [1640.0, 515000.0], [3830.0, 2050000.0], [1160.0, 453000.0], [1190.0, 587100.0], [970.0, 219000.0], [1510.0, 1000000.0], [1590.0, 409900.0], [3870.0, 1399950.0], [2650.0, 685000.0], [3690.0, 440000.0], [1670.0, 680000.0], [2560.0, 740000.0], [1860.0, 249000.0], [2750.0, 535000.0], [1740.0, 410000.0], [2100.0, 679000.0], [2650.0, 446500.0], [1987.0, 255000.0], [1590.0, 267500.0], [4300.0, 593500.0], [1430.0, 478000.0], [960.0, 660000.0], [1320.0, 345000.0], [1900.0, 650000.0], [1240.0, 425000.0], [1700.0, 550000.0], [2120.0, 682000.0], [1710.0, 690000.0], [2740.0, 568000.0], [2670.0, 400000.0], [2390.0, 699950.0], [2100.0, 457000.0], [2550.0, 375900.0], [1860.0, 385000.0], [680.0, 252000.0], [950.0, 445000.0], [2440.0, 954500.0], [6300.0, 2750000.0], [1400.0, 194000.0], [3150.0, 819900.0], [1890.0, 255000.0], [2100.0, 503000.0], [2700.0, 1557600.0], [2770.0, 390000.0], [1950.0, 412000.0], [1130.0, 375000.0], [1500.0, 300000.0], [2210.0, 719000.0], [1230.0, 220000.0], [1620.0, 333000.0], [800.0, 440000.0], [2020.0, 319000.0], [1350.0, 414500.0], [1480.0, 216650.0], [4640.0, 2200000.0], [1090.0, 382500.0], [2300.0, 312500.0], [1710.0, 650000.0], [2060.0, 607000.0], [2810.0, 340000.0], [1820.0, 264000.0], [1670.0, 335000.0], [2180.0, 389000.0], [4850.0, 569950.0], [2000.0, 443950.0], [1330.0, 218000.0], [1070.0, 320000.0], [2570.0, 1180000.0], [1650.0, 266750.0], [2020.0, 490000.0], [2000.0, 519000.0], [1900.0, 315000.0], [1820.0, 276000.0], [950.0, 520000.0], [1610.0, 526000.0], [1600.0, 523500.0], [2200.0, 300000.0], [1440.0, 274000.0], [960.0, 208950.0], [3150.0, 580135.0], [1170.0, 157000.0], [1390.0, 317000.0], [1910.0, 300000.0], [1270.0, 196900.0], [2160.0, 770000.0], [2500.0, 372000.0], [1690.0, 390000.0], [2900.0, 520000.0], [1770.0, 275000.0], [1430.0, 280000.0], [1550.0, 432000.0], [3560.0, 843500.0], [2120.0, 550000.0], [1030.0, 223000.0], [3230.0, 730000.0], [920.0, 555500.0], [1040.0, 430000.0], [2180.0, 496000.0], [2910.0, 499950.0], [1380.0, 270000.0], [830.0, 200000.0], [1740.0, 600000.0], [1930.0, 570000.0], [1970.0, 590000.0], [940.0, 329000.0], [1950.0, 315000.0], [2090.0, 610000.0], [1730.0, 205000.0], [2270.0, 311750.0], [2150.0, 420000.0], [1370.0, 232500.0], [1770.0, 630000.0], [4240.0, 2187730.0], [2900.0, 670000.0], [1390.0, 299950.0], [2090.0, 581000.0], [1940.0, 365000.0], [2150.0, 450000.0], [1650.0, 219950.0], [2090.0, 562100.0], [1050.0, 392500.0], [2970.0, 845000.0], [1420.0, 294000.0], [2840.0, 739000.0], [1000.0, 217000.0], [1980.0, 796000.0], [1570.0, 278500.0], [1930.0, 364950.0], [1180.0, 400000.0], [1970.0, 320000.0], [1230.0, 425000.0], [1900.0, 375000.0], [4420.0, 2700000.0], [2140.0, 270000.0], [1220.0, 470000.0], [1550.0, 453000.0], [3880.0, 506000.0], [1320.0, 256500.0], [2830.0, 969950.0], [1710.0, 561000.0], [1790.0, 258000.0], [2380.0, 812000.0], [1320.0, 350000.0], [1300.0, 445950.0], [1540.0, 430000.0], [2810.0, 999000.0], [2470.0, 669000.0], [2390.0, 787500.0], [1030.0, 305000.0], [2860.0, 1187500.0], [1330.0, 372000.0], [680.0, 275000.0], [960.0, 299000.0], [2160.0, 856000.0], [2400.0, 487275.0], [2010.0, 495500.0], [3020.0, 775000.0], [1270.0, 438000.0], [1250.0, 491000.0], [2710.0, 805000.0], [2070.0, 781000.0], [4020.0, 1050000.0], [2460.0, 790000.0], [1840.0, 319990.0], [1960.0, 402000.0], [1780.0, 435000.0], [1420.0, 235000.0], [1100.0, 625000.0], [2140.0, 528000.0], [1120.0, 310000.0], [1220.0, 333500.0], [1510.0, 190000.0], [3010.0, 750000.0], [3160.0, 1280000.0], [4140.0, 1839900.0], [1700.0, 389950.0], [1370.0, 235000.0], [1400.0, 280000.0], [1420.0, 329922.0], [2890.0, 655000.0], [3250.0, 580000.0], [1420.0, 250000.0], [990.0, 220500.0], [1140.0, 704000.0], [1880.0, 466000.0], [2890.0, 930000.0], [2400.0, 885000.0], [1310.0, 200000.0], [960.0, 255000.0], [3310.0, 419000.0], [1830.0, 230000.0], [2660.0, 635000.0], [4190.0, 1150000.0], [3390.0, 859900.0], [3350.0, 845000.0], [620.0, 425000.0], [1860.0, 529950.0], [2050.0, 320000.0], [1370.0, 355000.0], [1700.0, 378500.0], [1680.0, 427000.0], [4330.0, 722800.0], [1350.0, 525000.0], [1070.0, 212000.0], [1200.0, 225000.0], [2160.0, 653000.0], [1840.0, 235000.0], [1780.0, 588000.0], [4770.0, 1475000.0], [1580.0, 452000.0], [2680.0, 445000.0], [1890.0, 311850.0], [2010.0, 625000.0], [1520.0, 190000.0], [2530.0, 336000.0], [1190.0, 210000.0], [3000.0, 780000.0], [1410.0, 626700.0], [1950.0, 525126.0], [2080.0, 830000.0], [2380.0, 227000.0], [3060.0, 475000.0], [2770.0, 1197354.0], [2620.0, 738000.0], [1760.0, 336500.0], [1210.0, 529000.0], [1880.0, 310000.0], [1160.0, 350000.0], [770.0, 290000.0], [1240.0, 333000.0], [3750.0, 725000.0], [940.0, 242500.0], [2010.0, 559000.0], [2840.0, 640000.0], [3250.0, 875000.0], [620.0, 325000.0], [1850.0, 260000.0], [1740.0, 219000.0], [1890.0, 475000.0], [2300.0, 510000.0], [820.0, 363000.0], [780.0, 289000.0], [1960.0, 600000.0], [3050.0, 865000.0], [1240.0, 727500.0], [1580.0, 280000.0], [3540.0, 800000.0], [1850.0, 303000.0], [910.0, 465000.0], [4810.0, 1295648.0], [1360.0, 200000.0], [1560.0, 549010.0], [1830.0, 572000.0], [1270.0, 461000.0], [1580.0, 333000.0], [2070.0, 364950.0], [2570.0, 339990.0], [1540.0, 450000.0], [2420.0, 640000.0], [1860.0, 330000.0], [1450.0, 362500.0], [2320.0, 318888.0], [4030.0, 912000.0], [1590.0, 338000.0], [1350.0, 700000.0], [2100.0, 298450.0], [1430.0, 530000.0], [1740.0, 349000.0], [2760.0, 952000.0], [1620.0, 370000.0], [2470.0, 470000.0], [1790.0, 451000.0], [1640.0, 390000.0], [1100.0, 480000.0], [6550.0, 1500000.0], [980.0, 329000.0], [1540.0, 525000.0], [2510.0, 665000.0], [2700.0, 580000.0], [1710.0, 411753.0], [3010.0, 1125000.0], [1690.0, 464550.0], [4260.0, 1065000.0], [1650.0, 299000.0], [2490.0, 700000.0], [2930.0, 749000.0], [2260.0, 865000.0], [3960.0, 525000.0], [1790.0, 385000.0], [1330.0, 455000.0], [1370.0, 229000.0], [1650.0, 250000.0], [1790.0, 330000.0], [1660.0, 315000.0], [1830.0, 336500.0], [700.0, 84000.0], [2040.0, 502000.0], [1490.0, 445000.0], [2540.0, 385000.0], [1130.0, 565000.0], [1370.0, 249950.0], [1830.0, 298900.0], [1970.0, 297000.0], [2260.0, 795000.0], [2440.0, 515000.0], [1020.0, 385000.0], [2130.0, 800000.0], [790.0, 169317.0], [3300.0, 1740000.0], [2170.0, 400000.0], [1940.0, 580000.0], [2370.0, 355000.0], [1110.0, 255000.0], [2520.0, 307000.0], [1410.0, 658500.0], [1690.0, 345000.0], [1580.0, 537000.0], [1920.0, 554000.0], [2520.0, 598500.0], [1050.0, 630000.0], [2710.0, 535000.0], [1410.0, 315000.0], [3640.0, 1595000.0], [2900.0, 312000.0], [2400.0, 745000.0], [1380.0, 299500.0], [1550.0, 430000.0], [960.0, 244000.0], [1660.0, 295000.0], [720.0, 150000.0], [1820.0, 320000.0], [2410.0, 899100.0], [1310.0, 223000.0], [1330.0, 236000.0], [3150.0, 815000.0], [1358.0, 280000.0], [4440.0, 959000.0], [2880.0, 755000.0], [1870.0, 559950.0], [1890.0, 445000.0], [730.0, 217000.0], [2050.0, 252000.0], [1990.0, 619000.0], [1280.0, 370000.0], [960.0, 289500.0], [700.0, 152000.0], [1470.0, 638000.0], [940.0, 225000.0], [1110.0, 190500.0], [2110.0, 716125.0], [1880.0, 280000.0], [2050.0, 369950.0], [1530.0, 560000.0], [1470.0, 426000.0], [710.0, 390000.0], [5270.0, 782000.0], [3390.0, 750000.0], [1640.0, 349950.0], [3150.0, 727000.0], [1070.0, 542000.0], [1950.0, 315000.0], [1030.0, 397000.0], [1650.0, 715000.0], [790.0, 436000.0], [1040.0, 310000.0], [1200.0, 340000.0], [2130.0, 509000.0], [870.0, 157000.0], [4110.0, 1031000.0], [1650.0, 429500.0], [2450.0, 800000.0], [1800.0, 338800.0], [1610.0, 269950.0], [1310.0, 323000.0], [1250.0, 333000.0], [3930.0, 3070000.0], [3180.0, 1149000.0], [2590.0, 855000.0], [1320.0, 255000.0], [2410.0, 700000.0], [830.0, 345000.0], [1170.0, 457000.0], [1010.0, 315000.0], [2780.0, 1650000.0], [1800.0, 655000.0], [2430.0, 272000.0], [2330.0, 850000.0], [2230.0, 770000.0], [1760.0, 247500.0], [1820.0, 515000.0], [3020.0, 975000.0], [2470.0, 360000.0], [3050.0, 909950.0], [860.0, 305000.0], [1710.0, 172040.0], [1550.0, 273500.0], [2710.0, 1250000.0], [910.0, 100000.0], [1980.0, 660000.0], [810.0, 385000.0], [880.0, 248500.0], [2690.0, 469000.0], [1540.0, 742000.0], [2280.0, 322000.0], [2190.0, 565000.0], [2020.0, 240000.0], [1750.0, 234000.0], [2238.0, 330000.0], [1540.0, 550000.0], [1710.0, 675000.0], [1980.0, 700000.0], [2220.0, 540000.0], [1610.0, 505000.0], [1010.0, 248000.0], [2210.0, 250000.0], [1140.0, 903000.0], [1510.0, 399950.0], [3110.0, 436500.0], [3880.0, 445000.0], [2430.0, 518000.0], [3260.0, 1328000.0], [1490.0, 245000.0], [1740.0, 650000.0], [1160.0, 450000.0], [1790.0, 250000.0], [2450.0, 550000.0], [1700.0, 472500.0], [1260.0, 248000.0], [720.0, 276000.0], [2990.0, 644500.0], [1890.0, 506500.0], [2310.0, 319950.0], [4510.0, 960000.0], [1150.0, 265950.0], [2540.0, 717000.0], [1450.0, 550000.0], [2420.0, 870000.0], [1250.0, 163000.0], [1460.0, 495000.0], [1540.0, 530100.0], [1320.0, 420200.0], [1630.0, 265000.0], [2210.0, 516000.0], [2320.0, 541500.0], [9640.0, 4668000.0], [2760.0, 765000.0], [4060.0, 603500.0], [2120.0, 340000.0], [2090.0, 310000.0], [1570.0, 835000.0], [2300.0, 505000.0], [3740.0, 475000.0], [960.0, 290000.0], [2070.0, 1452000.0], [2430.0, 710000.0], [2310.0, 627000.0], [3330.0, 2500000.0], [3400.0, 1300000.0], [1200.0, 250000.0], [3290.0, 799000.0], [4500.0, 2340000.0], [2030.0, 225000.0], [2190.0, 700000.0], [650.0, 295000.0], [1720.0, 385000.0], [1470.0, 270000.0], [2290.0, 668500.0], [1700.0, 410000.0], [900.0, 290000.0], [1590.0, 330000.0], [1720.0, 525000.0], [2240.0, 440000.0], [2290.0, 565000.0], [1670.0, 425000.0], [1150.0, 717000.0], [3750.0, 942500.0], [2240.0, 337000.0], [1070.0, 175000.0], [2870.0, 560000.0], [1560.0, 265000.0], [2810.0, 624000.0], [1400.0, 330000.0], [2730.0, 374950.0], [920.0, 589000.0], [1460.0, 175000.0], [4210.0, 1146800.0], [1540.0, 449950.0], [700.0, 330000.0], [2900.0, 1580000.0], [2670.0, 515000.0], [800.0, 350000.0], [2290.0, 325500.0], [960.0, 325000.0], [950.0, 190000.0], [1840.0, 467000.0], [2130.0, 732600.0], [1200.0, 229000.0], [2420.0, 820000.0], [1930.0, 285000.0], [2190.0, 770000.0], [1280.0, 549900.0], [2400.0, 620000.0], [3080.0, 637000.0], [1700.0, 420000.0], [2620.0, 765000.0], [1280.0, 500000.0], [1220.0, 325000.0], [2720.0, 940000.0], [900.0, 305000.0], [3160.0, 1190000.0], [1730.0, 700000.0], [1760.0, 353500.0], [1890.0, 475000.0], [3430.0, 749995.0], [1760.0, 429950.0], [2030.0, 365000.0], [2170.0, 1325000.0], [2500.0, 368000.0], [2650.0, 797000.0], [2650.0, 435000.0], [1370.0, 219000.0], [2200.0, 424000.0], [1290.0, 268500.0], [1450.0, 440000.0], [660.0, 100000.0], [1060.0, 235000.0], [2650.0, 725000.0], [2540.0, 735000.0], [1990.0, 309950.0], [1170.0, 282500.0], [2070.0, 400000.0], [3150.0, 705000.0], [2090.0, 210000.0], [1600.0, 502000.0], [3510.0, 540000.0], [1400.0, 267500.0], [1610.0, 450000.0], [2390.0, 735000.0], [1200.0, 460000.0], [2870.0, 700000.0], [3040.0, 776000.0], [1160.0, 299000.0], [1830.0, 440000.0], [1730.0, 535500.0], [3160.0, 553000.0], [2510.0, 811000.0], [910.0, 169000.0], [2350.0, 870300.0], [2610.0, 659000.0], [1690.0, 600000.0], [3210.0, 756450.0], [2690.0, 699850.0], [950.0, 339000.0], [1250.0, 459500.0], [960.0, 349810.0], [1650.0, 410000.0], [3753.0, 363000.0], [2560.0, 747000.0], [3560.0, 896000.0], [2970.0, 640000.0], [2880.0, 560000.0], [1620.0, 428750.0], [2890.0, 515000.0], [2000.0, 456500.0], [2030.0, 598000.0], [1680.0, 451000.0], [2440.0, 566000.0], [1610.0, 512000.0], [1900.0, 512500.0], [2180.0, 560000.0], [2330.0, 542500.0], [1720.0, 341000.0], [2390.0, 450000.0], [2670.0, 612000.0], [700.0, 248000.0], [3160.0, 1250000.0], [1870.0, 700000.0], [3240.0, 575000.0], [2550.0, 406250.0], [890.0, 169000.0], [1380.0, 505000.0], [1400.0, 305000.0], [2520.0, 875000.0], [2050.0, 280000.0], [2660.0, 772650.0], [2360.0, 532000.0], [2150.0, 435000.0], [2040.0, 450000.0], [2600.0, 415000.0], [2270.0, 735000.0], [1260.0, 523000.0], [1470.0, 339900.0], [1870.0, 350000.0], [2520.0, 500000.0], [2720.0, 685000.0], [1810.0, 495000.0], [1800.0, 305000.0], [2040.0, 250000.0], [1920.0, 320000.0], [2670.0, 494995.0], [1220.0, 175000.0], [1390.0, 199000.0], [2650.0, 615000.0], [1500.0, 578000.0], [1900.0, 420000.0], [3280.0, 671300.0], [3280.0, 963000.0], [2550.0, 460000.0], [2870.0, 480000.0], [1460.0, 580000.0], [1780.0, 587500.0], [1730.0, 313100.0], [1350.0, 304950.0], [3430.0, 997000.0], [4220.0, 1575000.0], [3800.0, 450000.0], [1710.0, 479000.0], [860.0, 340000.0], [2080.0, 399950.0], [3410.0, 720000.0], [1170.0, 581000.0], [1880.0, 407193.0], [2890.0, 715000.0], [1680.0, 227000.0], [1730.0, 275000.0], [3190.0, 1700000.0], [1710.0, 561000.0], [3420.0, 975000.0], [2900.0, 500000.0], [720.0, 403000.0], [1250.0, 299000.0], [2960.0, 857500.0], [1490.0, 203000.0], [1800.0, 567000.0], [1890.0, 325000.0], [860.0, 216000.0], [2320.0, 530000.0], [2610.0, 1517000.0], [3490.0, 728000.0], [2200.0, 698000.0], [2880.0, 439000.0], [3470.0, 1445000.0], [1250.0, 353000.0], [2390.0, 606000.0], [2340.0, 529000.0], [2040.0, 366400.0], [2560.0, 632000.0], [1340.0, 275000.0], [3150.0, 649500.0], [2040.0, 619000.0], [3030.0, 790000.0], [1410.0, 404000.0], [6430.0, 4489000.0], [2400.0, 595000.0], [1330.0, 479000.0], [2610.0, 757000.0], [2970.0, 549995.0], [1480.0, 331000.0], [3370.0, 760000.0], [1500.0, 782000.0], [1270.0, 335000.0], [1550.0, 300000.0], [1980.0, 449000.0], [2400.0, 510000.0], [1640.0, 410000.0], [1690.0, 292500.0], [1490.0, 580000.0], [1600.0, 439500.0], [3276.0, 720000.0], [1520.0, 550000.0], [1350.0, 310000.0], [1410.0, 529500.0], [2580.0, 700000.0], [2110.0, 535000.0], [2610.0, 608000.0], [1500.0, 277000.0], [1560.0, 320000.0], [1610.0, 450000.0], [1330.0, 525000.0], [4140.0, 950000.0], [2020.0, 520000.0], [1520.0, 460000.0], [3730.0, 825000.0], [4240.0, 1160000.0], [1570.0, 335000.0], [2240.0, 530000.0], [2260.0, 440000.0], [1470.0, 280000.0], [890.0, 285000.0], [2130.0, 955500.0], [3230.0, 772500.0], [2560.0, 350000.0], [1550.0, 550000.0], [2250.0, 287500.0], [2510.0, 675000.0], [3070.0, 1900000.0], [1780.0, 325000.0], [2860.0, 530000.0], [2940.0, 635000.0], [1780.0, 336900.0], [1560.0, 400000.0], [2730.0, 505000.0], [1950.0, 299000.0], [1790.0, 485000.0], [1620.0, 395000.0], [4060.0, 718000.0], [1210.0, 440000.0], [3820.0, 950000.0], [2500.0, 760000.0], [2060.0, 640000.0], [2160.0, 585000.0], [1630.0, 522000.0], [990.0, 173250.0], [2720.0, 550000.0], [2520.0, 650000.0], [2310.0, 1110000.0], [3300.0, 1105000.0], [1530.0, 255000.0], [2040.0, 872500.0]], \"columns\": [{\"dtype\": \"str\", \"name\": \"id\"}, {\"dtype\": \"datetime\", \"name\": \"date\"}, {\"dtype\": \"float\", \"name\": \"price\"}, {\"dtype\": \"float\", \"name\": \"bedrooms\"}, {\"dtype\": \"float\", \"name\": \"bathrooms\"}, {\"dtype\": \"float\", \"name\": \"sqft_living\"}, {\"dtype\": \"int\", \"name\": \"sqft_lot\"}, {\"dtype\": \"str\", \"name\": \"floors\"}, {\"dtype\": \"int\", \"name\": \"waterfront\"}, {\"dtype\": \"int\", \"name\": \"view\"}, {\"dtype\": \"int\", \"name\": \"condition\"}, {\"dtype\": \"int\", \"name\": \"grade\"}, {\"dtype\": \"int\", \"name\": \"sqft_above\"}, {\"dtype\": \"int\", \"name\": \"sqft_basement\"}, {\"dtype\": \"int\", \"name\": \"yr_built\"}, {\"dtype\": \"int\", \"name\": \"yr_renovated\"}, {\"dtype\": \"str\", \"name\": \"zipcode\"}, {\"dtype\": \"float\", \"name\": \"lat\"}, {\"dtype\": \"float\", \"name\": \"long\"}, {\"dtype\": \"float\", \"name\": \"sqft_living15\"}, {\"dtype\": \"float\", \"name\": \"sqft_lot15\"}]}, e);\n",
       "                });\n",
       "            })();\n",
       "        "
      ]
     },
     "metadata": {},
     "output_type": "display_data"
    }
   ],
   "source": [
    "graphlab.canvas.set_target('ipynb')\n",
    "sales.show(view=\"Scatter Plot\", x=\"sqft_living\", y=\"price\")"
   ]
  },
  {
   "cell_type": "markdown",
   "metadata": {},
   "source": [
    "# Split data into training and testing"
   ]
  },
  {
   "cell_type": "markdown",
   "metadata": {},
   "source": [
    "We use seed=0 so that everyone running this notebook gets the same results.  In practice, you may set a random seed (or let GraphLab Create pick a random seed for you).  "
   ]
  },
  {
   "cell_type": "code",
   "execution_count": 5,
   "metadata": {
    "collapsed": false
   },
   "outputs": [],
   "source": [
    "train_data,test_data = sales.random_split(.8,seed=0)"
   ]
  },
  {
   "cell_type": "markdown",
   "metadata": {},
   "source": [
    "# Useful SFrame summary functions"
   ]
  },
  {
   "cell_type": "markdown",
   "metadata": {},
   "source": [
    "In order to make use of the closed form solution as well as take advantage of graphlab's built in functions we will review some important ones. In particular:\n",
    "* Computing the sum of an SArray\n",
    "* Computing the arithmetic average (mean) of an SArray\n",
    "* multiplying SArrays by constants\n",
    "* multiplying SArrays by other SArrays"
   ]
  },
  {
   "cell_type": "code",
   "execution_count": 6,
   "metadata": {
    "collapsed": false
   },
   "outputs": [
    {
     "name": "stdout",
     "output_type": "stream",
     "text": [
      "average price via method 1: 540088.141905\n",
      "average price via method 2: 540088.141905\n"
     ]
    }
   ],
   "source": [
    "# Let's compute the mean of the House Prices in King County in 2 different ways.\n",
    "prices = sales['price'] # extract the price column of the sales SFrame -- this is now an SArray\n",
    "\n",
    "# recall that the arithmetic average (the mean) is the sum of the prices divided by the total number of houses:\n",
    "sum_prices = prices.sum()\n",
    "num_houses = prices.size() # when prices is an SArray .size() returns its length\n",
    "avg_price_1 = sum_prices/num_houses\n",
    "avg_price_2 = prices.mean() # if you just want the average, the .mean() function\n",
    "print \"average price via method 1: \" + str(avg_price_1)\n",
    "print \"average price via method 2: \" + str(avg_price_2)"
   ]
  },
  {
   "cell_type": "markdown",
   "metadata": {},
   "source": [
    "As we see we get the same answer both ways"
   ]
  },
  {
   "cell_type": "code",
   "execution_count": 63,
   "metadata": {
    "collapsed": false
   },
   "outputs": [
    {
     "name": "stdout",
     "output_type": "stream",
     "text": [
      "the sum of price squared is: 9.21732513355e+15\n"
     ]
    }
   ],
   "source": [
    "# if we want to multiply every price by 0.5 it's a simple as:\n",
    "half_prices = 0.5*prices\n",
    "# Let's compute the sum of squares of price. We can multiply two SArrays of the same length elementwise also with *\n",
    "prices_squared = prices*prices\n",
    "sum_prices_squared = prices_squared.sum() # price_squared is an SArray of the squares and we want to add them up.\n",
    "print \"the sum of price squared is: \" + str(sum_prices_squared)"
   ]
  },
  {
   "cell_type": "markdown",
   "metadata": {},
   "source": [
    "Aside: The python notation x.xxe+yy means x.xx \\* 10^(yy). e.g 100 = 10^2 = 1*10^2 = 1e2 "
   ]
  },
  {
   "cell_type": "markdown",
   "metadata": {},
   "source": [
    "# Build a generic simple linear regression function "
   ]
  },
  {
   "cell_type": "markdown",
   "metadata": {},
   "source": [
    "Armed with these SArray functions we can use the closed form solution found from lecture to compute the slope and intercept for a simple linear regression on observations stored as SArrays: input_feature, output.\n",
    "\n",
    "Complete the following function (or write your own) to compute the simple linear regression slope and intercept:"
   ]
  },
  {
   "cell_type": "code",
   "execution_count": 95,
   "metadata": {
    "collapsed": false
   },
   "outputs": [],
   "source": [
    "def simple_linear_regression(input_feature, output):\n",
    "    # compute the sum of input_feature and output\n",
    "    sum_input = input_feature.sum()\n",
    "    sum_output = output.sum()\n",
    "    # compute the product of the output and the input_feature and its sum\n",
    "    product_input_output = input_feature * output\n",
    "    sum_product = product_input_output.sum()\n",
    "    # compute the squared value of the input_feature and its sum\n",
    "    squared_input = input_feature * input_feature\n",
    "    sum_input_squared = squared_input.sum()\n",
    "    # use the formula for the slope\n",
    "    numerator = sum_product - (sum_input * sum_output / input_feature.size())\n",
    "    denominator = sum_input_squared - (sum_input * sum_input / input_feature.size())\n",
    "    slope = float(numerator) / denominator\n",
    "    # use the formula for the intercept\n",
    "    intercept = output.mean() - slope * input_feature.mean()\n",
    "    return (intercept, slope)"
   ]
  },
  {
   "cell_type": "markdown",
   "metadata": {},
   "source": [
    "We can test that our function works by passing it something where we know the answer. In particular we can generate a feature and then put the output exactly on a line: output = 1 + 1\\*input_feature then we know both our slope and intercept should be 1"
   ]
  },
  {
   "cell_type": "code",
   "execution_count": 96,
   "metadata": {
    "collapsed": false,
    "scrolled": true
   },
   "outputs": [
    {
     "name": "stdout",
     "output_type": "stream",
     "text": [
      "Intercept: 1.0\n",
      "Slope: 1.0\n"
     ]
    }
   ],
   "source": [
    "test_feature = graphlab.SArray(range(5))\n",
    "test_output = graphlab.SArray(1 + 1*test_feature)\n",
    "(test_intercept, test_slope) =  simple_linear_regression(test_feature, test_output)\n",
    "print \"Intercept: \" + str(test_intercept)\n",
    "print \"Slope: \" + str(test_slope)"
   ]
  },
  {
   "cell_type": "markdown",
   "metadata": {},
   "source": [
    "Now that we know it works let's build a regression model for predicting price based on sqft_living. Rembember that we train on train_data!"
   ]
  },
  {
   "cell_type": "code",
   "execution_count": 97,
   "metadata": {
    "collapsed": false
   },
   "outputs": [
    {
     "name": "stdout",
     "output_type": "stream",
     "text": [
      "Intercept: -47116.0765749\n",
      "Slope: 281.958838568\n"
     ]
    }
   ],
   "source": [
    "(sqft_intercept, sqft_slope) = simple_linear_regression(train_data['sqft_living'], train_data['price'])\n",
    "\n",
    "print \"Intercept: \" + str(sqft_intercept)\n",
    "print \"Slope: \" + str(sqft_slope)"
   ]
  },
  {
   "cell_type": "markdown",
   "metadata": {},
   "source": [
    "# Predicting Values"
   ]
  },
  {
   "cell_type": "markdown",
   "metadata": {},
   "source": [
    "Now that we have the model parameters: intercept & slope we can make predictions. Using SArrays it's easy to multiply an SArray by a constant and add a constant value. Complete the following function to return the predicted output given the input_feature, slope and intercept:"
   ]
  },
  {
   "cell_type": "code",
   "execution_count": 98,
   "metadata": {
    "collapsed": false
   },
   "outputs": [],
   "source": [
    "def get_regression_predictions(input_feature, intercept, slope):\n",
    "    # calculate the predicted values:\n",
    "    predicted_values = intercept + input_feature * slope\n",
    "    return (predicted_values)"
   ]
  },
  {
   "cell_type": "markdown",
   "metadata": {},
   "source": [
    "Now that we can calculate a prediction given the slope and intercept let's make a prediction. Use (or alter) the following to find out the estimated price for a house with 2650 squarefeet according to the squarefeet model we estiamted above.\n",
    "\n",
    "**Quiz Question: Using your Slope and Intercept from (4), What is the predicted price for a house with 2650 sqft?**"
   ]
  },
  {
   "cell_type": "code",
   "execution_count": 100,
   "metadata": {
    "collapsed": false
   },
   "outputs": [
    {
     "name": "stdout",
     "output_type": "stream",
     "text": [
      "The estimated price for a house with 2650 squarefeet is $700074.85\n"
     ]
    }
   ],
   "source": [
    "my_house_sqft = 2650\n",
    "estimated_price = get_regression_predictions(my_house_sqft, sqft_intercept, sqft_slope)\n",
    "print \"The estimated price for a house with %d squarefeet is $%.2f\" % (my_house_sqft, estimated_price)"
   ]
  },
  {
   "cell_type": "markdown",
   "metadata": {},
   "source": [
    "# Residual Sum of Squares"
   ]
  },
  {
   "cell_type": "markdown",
   "metadata": {},
   "source": [
    "Now that we have a model and can make predictions let's evaluate our model using Residual Sum of Squares (RSS). Recall that RSS is the sum of the squares of the residuals and the residuals is just a fancy word for the difference between the predicted output and the true output. \n",
    "\n",
    "Complete the following (or write your own) function to compute the RSS of a simple linear regression model given the input_feature, output, intercept and slope:"
   ]
  },
  {
   "cell_type": "code",
   "execution_count": 101,
   "metadata": {
    "collapsed": true
   },
   "outputs": [],
   "source": [
    "def get_residual_sum_of_squares(input_feature, output, intercept, slope):\n",
    "    # First get the predictions\n",
    "    prediction = intercept + input_feature * slope\n",
    "    # then compute the residuals (since we are squaring it doesn't matter which order you subtract)\n",
    "    residual = output - prediction\n",
    "    # square the residuals and add them up\n",
    "    residual_squared = residual * residual\n",
    "    RSS = residual_squared.sum()\n",
    "    return(RSS)"
   ]
  },
  {
   "cell_type": "markdown",
   "metadata": {},
   "source": [
    "Let's test our get_residual_sum_of_squares function by applying it to the test model where the data lie exactly on a line. Since they lie exactly on a line the residual sum of squares should be zero!"
   ]
  },
  {
   "cell_type": "code",
   "execution_count": 102,
   "metadata": {
    "collapsed": false
   },
   "outputs": [
    {
     "name": "stdout",
     "output_type": "stream",
     "text": [
      "0.0\n"
     ]
    }
   ],
   "source": [
    "print get_residual_sum_of_squares(test_feature, test_output, test_intercept, test_slope) # should be 0.0"
   ]
  },
  {
   "cell_type": "markdown",
   "metadata": {},
   "source": [
    "Now use your function to calculate the RSS on training data from the squarefeet model calculated above.\n",
    "\n",
    "**Quiz Question: According to this function and the slope and intercept from the squarefeet model What is the RSS for the simple linear regression using squarefeet to predict prices on TRAINING data?**"
   ]
  },
  {
   "cell_type": "code",
   "execution_count": 103,
   "metadata": {
    "collapsed": false
   },
   "outputs": [
    {
     "name": "stdout",
     "output_type": "stream",
     "text": [
      "The RSS of predicting Prices based on Square Feet is : 1.20191835632e+15\n"
     ]
    }
   ],
   "source": [
    "rss_prices_on_sqft = get_residual_sum_of_squares(train_data['sqft_living'], train_data['price'], sqft_intercept, sqft_slope)\n",
    "print 'The RSS of predicting Prices based on Square Feet is : ' + str(rss_prices_on_sqft)"
   ]
  },
  {
   "cell_type": "markdown",
   "metadata": {},
   "source": [
    "# Predict the squarefeet given price"
   ]
  },
  {
   "cell_type": "markdown",
   "metadata": {},
   "source": [
    "What if we want to predict the squarefoot given the price? Since we have an equation y = a + b\\*x we can solve the function for x. So that if we have the intercept (a) and the slope (b) and the price (y) we can solve for the estimated squarefeet (x).\n",
    "\n",
    "Comlplete the following function to compute the inverse regression estimate, i.e. predict the input_feature given the output!"
   ]
  },
  {
   "cell_type": "code",
   "execution_count": 104,
   "metadata": {
    "collapsed": false
   },
   "outputs": [],
   "source": [
    "def inverse_regression_predictions(output, intercept, slope):\n",
    "    # solve output = intercept + slope*input_feature for input_feature. Use this equation to compute the inverse predictions:\n",
    "    estimated_feature = (output - intercept) / slope\n",
    "    return (estimated_feature)"
   ]
  },
  {
   "cell_type": "markdown",
   "metadata": {},
   "source": [
    "Now that we have a function to compute the squarefeet given the price from our simple regression model let's see how big we might expect a house that costs $800,000 to be.\n",
    "\n",
    "**Quiz Question: According to this function and the regression slope and intercept from (3) what is the estimated square-feet for a house costing $800,000?**"
   ]
  },
  {
   "cell_type": "code",
   "execution_count": 106,
   "metadata": {
    "collapsed": false
   },
   "outputs": [
    {
     "name": "stdout",
     "output_type": "stream",
     "text": [
      "The estimated squarefeet for a house worth $800000.00 is 3004\n"
     ]
    }
   ],
   "source": [
    "my_house_price = 800000\n",
    "estimated_squarefeet = inverse_regression_predictions(my_house_price, sqft_intercept, sqft_slope)\n",
    "print \"The estimated squarefeet for a house worth $%.2f is %d\" % (my_house_price, estimated_squarefeet)"
   ]
  },
  {
   "cell_type": "markdown",
   "metadata": {},
   "source": [
    "# New Model: estimate prices from bedrooms"
   ]
  },
  {
   "cell_type": "markdown",
   "metadata": {},
   "source": [
    "We have made one model for predicting house prices using squarefeet, but there are many other features in the sales SFrame. \n",
    "Use your simple linear regression function to estimate the regression parameters from predicting Prices based on number of bedrooms. Use the training data!"
   ]
  },
  {
   "cell_type": "code",
   "execution_count": 107,
   "metadata": {
    "collapsed": false
   },
   "outputs": [
    {
     "name": "stdout",
     "output_type": "stream",
     "text": [
      "109473.180469 127588.952175\n"
     ]
    }
   ],
   "source": [
    "# Estimate the slope and intercept for predicting 'price' based on 'bedrooms'\n",
    "(bedroom_intercept, bedroom_slope) = simple_linear_regression(train_data['bedrooms'], train_data['price'])\n",
    "print bedroom_intercept, bedroom_slope"
   ]
  },
  {
   "cell_type": "markdown",
   "metadata": {},
   "source": [
    "# Test your Linear Regression Algorithm"
   ]
  },
  {
   "cell_type": "markdown",
   "metadata": {},
   "source": [
    "Now we have two models for predicting the price of a house. How do we know which one is better? Calculate the RSS on the TEST data (remember this data wasn't involved in learning the model). Compute the RSS from predicting prices using bedrooms and from predicting prices using squarefeet.\n",
    "\n",
    "**Quiz Question: Which model (square feet or bedrooms) has lowest RSS on TEST data? Think about why this might be the case.**"
   ]
  },
  {
   "cell_type": "code",
   "execution_count": 108,
   "metadata": {
    "collapsed": false
   },
   "outputs": [
    {
     "name": "stdout",
     "output_type": "stream",
     "text": [
      "8.33481403625e+15\n"
     ]
    }
   ],
   "source": [
    "# Compute RSS when using bedrooms on TEST data:\n",
    "rss_prices_on_bedrooms = get_residual_sum_of_squares(train_data['bedrooms'], train_data['price'], sqft_intercept, sqft_slope)\n",
    "print rss_prices_on_bedrooms"
   ]
  },
  {
   "cell_type": "code",
   "execution_count": 109,
   "metadata": {
    "collapsed": false
   },
   "outputs": [
    {
     "name": "stdout",
     "output_type": "stream",
     "text": [
      "1.20191835632e+15\n"
     ]
    }
   ],
   "source": [
    "# Compute RSS when using squarefeet on TEST data:\n",
    "print rss_prices_on_sqft"
   ]
  },
  {
   "cell_type": "code",
   "execution_count": null,
   "metadata": {
    "collapsed": true
   },
   "outputs": [],
   "source": []
  }
 ],
 "metadata": {
  "kernelspec": {
   "display_name": "Python 2",
   "language": "python",
   "name": "python2"
  },
  "language_info": {
   "codemirror_mode": {
    "name": "ipython",
    "version": 2
   },
   "file_extension": ".py",
   "mimetype": "text/x-python",
   "name": "python",
   "nbconvert_exporter": "python",
   "pygments_lexer": "ipython2",
   "version": "2.7.11"
  }
 },
 "nbformat": 4,
 "nbformat_minor": 0
}
