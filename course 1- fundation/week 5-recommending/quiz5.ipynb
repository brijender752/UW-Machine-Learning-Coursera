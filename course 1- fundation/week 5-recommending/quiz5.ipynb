{
 "cells": [
  {
   "cell_type": "code",
   "execution_count": 1,
   "metadata": {
    "collapsed": false
   },
   "outputs": [
    {
     "name": "stderr",
     "output_type": "stream",
     "text": [
      "[INFO] \u001b[1;32m1452690973 : INFO:     (initialize_globals_from_environment:282): Setting configuration variable GRAPHLAB_FILEIO_ALTERNATIVE_SSL_CERT_FILE to /Users/hzdy1994/anaconda/lib/python2.7/site-packages/certifi/cacert.pem\n",
      "\u001b[0m\u001b[1;32m1452690973 : INFO:     (initialize_globals_from_environment:282): Setting configuration variable GRAPHLAB_FILEIO_ALTERNATIVE_SSL_CERT_DIR to \n",
      "\u001b[0mThis non-commercial license of GraphLab Create is assigned to gracedongy@gmail.com and will expire on December 27, 2016. For commercial licensing options, visit https://dato.com/buy/.\n",
      "\n",
      "[INFO] Start server at: ipc:///tmp/graphlab_server-1254 - Server binary: /Users/hzdy1994/anaconda/lib/python2.7/site-packages/graphlab/unity_server - Server log: /tmp/graphlab_server_1452690973.log\n",
      "[INFO] GraphLab Server Version: 1.7.1\n"
     ]
    }
   ],
   "source": [
    "import graphlab\n",
    "song_data = graphlab.SFrame('song_data.gl/')"
   ]
  },
  {
   "cell_type": "code",
   "execution_count": 4,
   "metadata": {
    "collapsed": false
   },
   "outputs": [
    {
     "name": "stdout",
     "output_type": "stream",
     "text": [
      "Kanye West 2522\n",
      "Foo Fighters 2055\n",
      "Taylor Swift 3246\n",
      "Lady GaGa 2928\n"
     ]
    }
   ],
   "source": [
    "artists = ['Kanye West', 'Foo Fighters', 'Taylor Swift', 'Lady GaGa']\n",
    "for artist in artists:\n",
    "    print artist, len(song_data[song_data['artist'] == artist]['user_id'].unique())"
   ]
  },
  {
   "cell_type": "code",
   "execution_count": 25,
   "metadata": {
    "collapsed": false
   },
   "outputs": [
    {
     "name": "stdout",
     "output_type": "stream",
     "text": [
      "Taylor Swift [19376, ... ]\n",
      "Kings Of Leon [43218, ... ]\n",
      "Coldplay [35362, ... ]\n",
      "Lady GaGa [12224, ... ]\n"
     ]
    }
   ],
   "source": [
    "artist_count = song_data.groupby(key_columns='artist', \n",
    "                                 operations={'total_count': graphlab.aggregate.SUM('listen_count')})\n",
    "artists2 = ['Taylor Swift', 'Kings Of Leon', 'Coldplay', 'Lady GaGa']\n",
    "for artist2 in artists2:\n",
    "    print artist2, artist_count[artist_count['artist'] == artist2]['total_count']"
   ]
  },
  {
   "cell_type": "code",
   "execution_count": 27,
   "metadata": {
    "collapsed": false
   },
   "outputs": [
    {
     "name": "stdout",
     "output_type": "stream",
     "text": [
      "+-------------------------------+-------------+\n",
      "|             artist            | total_count |\n",
      "+-------------------------------+-------------+\n",
      "|        William Tabbert        |      14     |\n",
      "|         Reel Feelings         |      24     |\n",
      "| Beyoncé feat. Bun B and Sl... |      26     |\n",
      "|             Diplo             |      30     |\n",
      "|         Boggle Karaoke        |      30     |\n",
      "|         harvey summers        |      31     |\n",
      "|             Nâdiya            |      36     |\n",
      "| Kanye West / Talib Kweli /... |      38     |\n",
      "|        Aneta Langerova        |      38     |\n",
      "|          Jody Bernal          |      38     |\n",
      "+-------------------------------+-------------+\n",
      "[3375 rows x 2 columns]\n",
      "Note: Only the head of the SFrame is printed.\n",
      "You can use print_rows(num_rows=m, num_columns=n) to print more rows and columns.\n",
      "+------------------------+-------------+\n",
      "|         artist         | total_count |\n",
      "+------------------------+-------------+\n",
      "|     Kings Of Leon      |    43218    |\n",
      "|     Dwight Yoakam      |    40619    |\n",
      "|         Björk          |    38889    |\n",
      "|        Coldplay        |    35362    |\n",
      "| Florence + The Machine |    33387    |\n",
      "|     Justin Bieber      |    29715    |\n",
      "|    Alliance Ethnik     |    26689    |\n",
      "|      OneRepublic       |    25754    |\n",
      "|         Train          |    25402    |\n",
      "|     The Black Keys     |    22184    |\n",
      "+------------------------+-------------+\n",
      "[3375 rows x 2 columns]\n",
      "Note: Only the head of the SFrame is printed.\n",
      "You can use print_rows(num_rows=m, num_columns=n) to print more rows and columns.\n"
     ]
    }
   ],
   "source": [
    "print artist_count.sort('total_count')\n",
    "print artist_count.sort('total_count', ascending=False)"
   ]
  },
  {
   "cell_type": "code",
   "execution_count": 32,
   "metadata": {
    "collapsed": false
   },
   "outputs": [],
   "source": [
    "train_data,test_data = song_data.random_split(.8,seed=0)"
   ]
  },
  {
   "cell_type": "code",
   "execution_count": 34,
   "metadata": {
    "collapsed": false
   },
   "outputs": [
    {
     "name": "stdout",
     "output_type": "stream",
     "text": [
      "PROGRESS: Recsys training: model = item_similarity\n",
      "PROGRESS: Warning: Ignoring columns song_id, listen_count, title, artist;\n",
      "PROGRESS:     To use one of these as a target column, set target = <column_name>\n",
      "PROGRESS:     and use a method that allows the use of a target.\n",
      "PROGRESS: Preparing data set.\n",
      "PROGRESS:     Data has 893580 observations with 66085 users and 9952 items.\n",
      "PROGRESS:     Data prepared in: 1.52772s\n",
      "PROGRESS: Computing item similarity statistics:\n",
      "PROGRESS: Computing most similar items for 9952 items:\n",
      "PROGRESS: +-----------------+-----------------+\n",
      "PROGRESS: | Number of items | Elapsed Time    |\n",
      "PROGRESS: +-----------------+-----------------+\n",
      "PROGRESS: | 1000            | 1.03703         |\n",
      "PROGRESS: | 2000            | 1.13226         |\n",
      "PROGRESS: | 3000            | 1.22542         |\n",
      "PROGRESS: | 4000            | 1.31837         |\n",
      "PROGRESS: | 5000            | 1.40538         |\n",
      "PROGRESS: | 6000            | 1.48967         |\n",
      "PROGRESS: | 7000            | 1.57182         |\n",
      "PROGRESS: | 8000            | 1.67991         |\n",
      "PROGRESS: | 9000            | 1.79063         |\n",
      "PROGRESS: +-----------------+-----------------+\n",
      "PROGRESS: Finished training in 2.39241s\n"
     ]
    }
   ],
   "source": [
    "personalized_model = graphlab.item_similarity_recommender.create(train_data, \n",
    "                                                                        user_id='user_id', item_id='song')"
   ]
  },
  {
   "cell_type": "code",
   "execution_count": 37,
   "metadata": {
    "collapsed": false
   },
   "outputs": [
    {
     "name": "stdout",
     "output_type": "stream",
     "text": [
      "PROGRESS: recommendations finished on 1000/10000 queries. users per second: 1012.25\n",
      "PROGRESS: recommendations finished on 2000/10000 queries. users per second: 1042.6\n",
      "PROGRESS: recommendations finished on 3000/10000 queries. users per second: 1044.86\n",
      "PROGRESS: recommendations finished on 4000/10000 queries. users per second: 1038.88\n",
      "PROGRESS: recommendations finished on 5000/10000 queries. users per second: 1037.62\n",
      "PROGRESS: recommendations finished on 6000/10000 queries. users per second: 1044.6\n",
      "PROGRESS: recommendations finished on 7000/10000 queries. users per second: 1048.82\n",
      "PROGRESS: recommendations finished on 8000/10000 queries. users per second: 1051.82\n",
      "PROGRESS: recommendations finished on 9000/10000 queries. users per second: 1046.68\n",
      "PROGRESS: recommendations finished on 10000/10000 queries. users per second: 1043.31\n",
      "+-------------------------------+-------------------------------+\n",
      "|            user_id            |              song             |\n",
      "+-------------------------------+-------------------------------+\n",
      "| c66c10a9567f0d82ff31441a9f... | Cuando Pase El Temblor - S... |\n",
      "| c067c22072a17d33310d7223d7... | Grind With Me (Explicit Ve... |\n",
      "| f6c596a519698c97f1591ad89f... |    Hey_ Soul Sister - Train   |\n",
      "| 696787172dd3f5169dc94deef9... | Senza Una Donna (Without A... |\n",
      "| 3a7111f4cdf3c5a85fd4053e3c... | Heartbreak Warfare - John ... |\n",
      "| 532e98155cbfd1e1a474a28ed9... | Jive Talkin' (Album Versio... |\n",
      "| ee43b175ed753b2e2bce806c90... | Ricordati Di Noi - Valerio... |\n",
      "| e372c27f6cb071518ae500589a... |     Fall Out - The Police     |\n",
      "| 83b1428917b47a6b130ed471b0... |       Clocks - Coldplay       |\n",
      "| 39487deef9345b1e22881245ca... |   Black Mirror - Arcade Fire  |\n",
      "+-------------------------------+-------------------------------+\n",
      "+-----------------+------+\n",
      "|      score      | rank |\n",
      "+-----------------+------+\n",
      "| 0.0194504525792 |  1   |\n",
      "| 0.0459424433009 |  1   |\n",
      "| 0.0249007169256 |  1   |\n",
      "| 0.0170265780731 |  1   |\n",
      "| 0.0320721386117 |  1   |\n",
      "| 0.0118288659232 |  1   |\n",
      "| 0.0305171277997 |  1   |\n",
      "| 0.0819672131148 |  1   |\n",
      "| 0.0440579129488 |  1   |\n",
      "| 0.0417737699321 |  1   |\n",
      "+-----------------+------+\n",
      "[10 rows x 4 columns]\n",
      "\n"
     ]
    }
   ],
   "source": [
    "subset_test_users = test_data['user_id'].unique()[0:10000]\n",
    "recommended_songs = personalized_model.recommend(subset_test_users,k=1)\n",
    "print recommended_songs.head()"
   ]
  },
  {
   "cell_type": "code",
   "execution_count": 38,
   "metadata": {
    "collapsed": false
   },
   "outputs": [
    {
     "name": "stdout",
     "output_type": "stream",
     "text": [
      "+--------------------------------+-------+\n",
      "|              song              | count |\n",
      "+--------------------------------+-------+\n",
      "|          Undo - Björk          |  431  |\n",
      "|     Secrets - OneRepublic      |  383  |\n",
      "|    Revelry - Kings Of Leon     |  232  |\n",
      "| You're The One - Dwight Yoakam |  169  |\n",
      "| Fireflies - Charttraxx Karaoke |  123  |\n",
      "|    Hey_ Soul Sister - Train    |  105  |\n",
      "| Horn Concerto No. 4 in E f...  |   98  |\n",
      "|    Sehr kosmisch - Harmonia    |   74  |\n",
      "| OMG - Usher featuring will...  |   58  |\n",
      "| Dog Days Are Over (Radio E...  |   54  |\n",
      "+--------------------------------+-------+\n",
      "[3135 rows x 2 columns]\n",
      "Note: Only the head of the SFrame is printed.\n",
      "You can use print_rows(num_rows=m, num_columns=n) to print more rows and columns.\n"
     ]
    }
   ],
   "source": [
    "artist_count = recommended_songs.groupby(key_columns='song', \n",
    "                                         operations={'count': graphlab.aggregate.COUNT()})\n",
    "print artist_count.sort('count', ascending=False)"
   ]
  },
  {
   "cell_type": "code",
   "execution_count": null,
   "metadata": {
    "collapsed": true
   },
   "outputs": [],
   "source": []
  }
 ],
 "metadata": {
  "kernelspec": {
   "display_name": "Python 2",
   "language": "python",
   "name": "python2"
  },
  "language_info": {
   "codemirror_mode": {
    "name": "ipython",
    "version": 2
   },
   "file_extension": ".py",
   "mimetype": "text/x-python",
   "name": "python",
   "nbconvert_exporter": "python",
   "pygments_lexer": "ipython2",
   "version": "2.7.11"
  }
 },
 "nbformat": 4,
 "nbformat_minor": 0
}
