{
 "cells": [
  {
   "cell_type": "code",
   "execution_count": 1,
   "metadata": {
    "collapsed": true
   },
   "outputs": [],
   "source": [
    "import graphlab"
   ]
  },
  {
   "cell_type": "code",
   "execution_count": 2,
   "metadata": {
    "collapsed": false
   },
   "outputs": [
    {
     "name": "stderr",
     "output_type": "stream",
     "text": [
      "[INFO] \u001b[1;32m1452172766 : INFO:     (initialize_globals_from_environment:282): Setting configuration variable GRAPHLAB_FILEIO_ALTERNATIVE_SSL_CERT_FILE to /Users/hzdy1994/anaconda/lib/python2.7/site-packages/certifi/cacert.pem\n",
      "\u001b[0m\u001b[1;32m1452172766 : INFO:     (initialize_globals_from_environment:282): Setting configuration variable GRAPHLAB_FILEIO_ALTERNATIVE_SSL_CERT_DIR to \n",
      "\u001b[0mThis non-commercial license of GraphLab Create is assigned to gracedongy@gmail.com and will expire on December 27, 2016. For commercial licensing options, visit https://dato.com/buy/.\n",
      "\n",
      "[INFO] Start server at: ipc:///tmp/graphlab_server-1470 - Server binary: /Users/hzdy1994/anaconda/lib/python2.7/site-packages/graphlab/unity_server - Server log: /tmp/graphlab_server_1452172766.log\n",
      "[INFO] GraphLab Server Version: 1.7.1\n"
     ]
    }
   ],
   "source": [
    "products = graphlab.SFrame('amazon_baby.gl/')"
   ]
  },
  {
   "cell_type": "code",
   "execution_count": 3,
   "metadata": {
    "collapsed": true
   },
   "outputs": [],
   "source": [
    "selected_words = ['awesome', 'great', 'fantastic', 'amazing', 'love', \n",
    "                  'horrible', 'bad', 'terrible', 'awful', 'wow', 'hate']"
   ]
  },
  {
   "cell_type": "code",
   "execution_count": 4,
   "metadata": {
    "collapsed": true
   },
   "outputs": [],
   "source": [
    "products['word_count'] = graphlab.text_analytics.count_words(products['review'])"
   ]
  },
  {
   "cell_type": "code",
   "execution_count": 12,
   "metadata": {
    "collapsed": true
   },
   "outputs": [],
   "source": [
    "def counting(word_count):\n",
    "    if word in word_count:\n",
    "        return word_count[word]\n",
    "    else:\n",
    "        return 0"
   ]
  },
  {
   "cell_type": "code",
   "execution_count": 13,
   "metadata": {
    "collapsed": false
   },
   "outputs": [],
   "source": [
    "for word in selected_words:\n",
    "    products[word] = products['word_count'].apply(counting)"
   ]
  },
  {
   "cell_type": "code",
   "execution_count": 14,
   "metadata": {
    "collapsed": false
   },
   "outputs": [
    {
     "name": "stdout",
     "output_type": "stream",
     "text": [
      "+-------------------------------+-------------------------------+--------+\n",
      "|              name             |             review            | rating |\n",
      "+-------------------------------+-------------------------------+--------+\n",
      "|    Planetwise Flannel Wipes   | These flannel wipes are OK... |  3.0   |\n",
      "|     Planetwise Wipe Pouch     | it came early and was not ... |  5.0   |\n",
      "| Annas Dream Full Quilt wit... | Very soft and comfortable ... |  5.0   |\n",
      "| Stop Pacifier Sucking with... | This is a product well wor... |  5.0   |\n",
      "| Stop Pacifier Sucking with... | All of my kids have cried ... |  5.0   |\n",
      "| Stop Pacifier Sucking with... | When the Binky Fairy came ... |  5.0   |\n",
      "| A Tale of Baby's Days with... | Lovely book, it's bound ti... |  4.0   |\n",
      "| Baby Tracker&reg; - Daily ... | Perfect for new parents. W... |  5.0   |\n",
      "| Baby Tracker&reg; - Daily ... | A friend of mine pinned th... |  5.0   |\n",
      "| Baby Tracker&reg; - Daily ... | This has been an easy way ... |  4.0   |\n",
      "+-------------------------------+-------------------------------+--------+\n",
      "+-------------------------------+---------+-------+-----------+---------+------+\n",
      "|           word_count          | awesome | great | fantastic | amazing | love |\n",
      "+-------------------------------+---------+-------+-----------+---------+------+\n",
      "| {'and': 5, '6': 1, 'stink'... |    0    |   0   |     0     |    0    |  0   |\n",
      "| {'and': 3, 'love': 1, 'it'... |    0    |   0   |     0     |    0    |  1   |\n",
      "| {'and': 2, 'quilt': 1, 'it... |    0    |   0   |     0     |    0    |  0   |\n",
      "| {'ingenious': 1, 'and': 3,... |    0    |   0   |     0     |    0    |  2   |\n",
      "| {'and': 2, 'parents!!': 1,... |    0    |   1   |     0     |    0    |  0   |\n",
      "| {'and': 2, 'this': 2, 'her... |    0    |   1   |     0     |    0    |  0   |\n",
      "| {'shop': 1, 'noble': 1, 'i... |    0    |   0   |     0     |    0    |  0   |\n",
      "| {'and': 2, 'all': 1, 'righ... |    0    |   0   |     0     |    0    |  0   |\n",
      "| {'and': 1, 'help': 1, 'giv... |    0    |   0   |     0     |    0    |  0   |\n",
      "| {'journal.': 1, 'nanny': 1... |    0    |   0   |     0     |    0    |  0   |\n",
      "+-------------------------------+---------+-------+-----------+---------+------+\n",
      "+----------+-----+----------+-------+-----+------+\n",
      "| horrible | bad | terrible | awful | wow | hate |\n",
      "+----------+-----+----------+-------+-----+------+\n",
      "|    0     |  0  |    0     |   0   |  0  |  0   |\n",
      "|    0     |  0  |    0     |   0   |  0  |  0   |\n",
      "|    0     |  0  |    0     |   0   |  0  |  0   |\n",
      "|    0     |  0  |    0     |   0   |  0  |  0   |\n",
      "|    0     |  0  |    0     |   0   |  0  |  0   |\n",
      "|    0     |  0  |    0     |   0   |  0  |  0   |\n",
      "|    0     |  0  |    0     |   0   |  0  |  0   |\n",
      "|    0     |  0  |    0     |   0   |  0  |  0   |\n",
      "|    0     |  0  |    0     |   0   |  0  |  0   |\n",
      "|    0     |  0  |    0     |   0   |  0  |  0   |\n",
      "+----------+-----+----------+-------+-----+------+\n",
      "[10 rows x 15 columns]\n",
      "\n"
     ]
    }
   ],
   "source": [
    "print products.head()"
   ]
  },
  {
   "cell_type": "code",
   "execution_count": 16,
   "metadata": {
    "collapsed": false
   },
   "outputs": [
    {
     "name": "stdout",
     "output_type": "stream",
     "text": [
      "awesome 2090\n",
      "great 45206\n",
      "fantastic 932\n",
      "amazing 1363\n",
      "love 42065\n",
      "horrible 734\n",
      "bad 3724\n",
      "terrible 748\n",
      "awful 383\n",
      "wow 144\n",
      "hate 1220\n"
     ]
    }
   ],
   "source": [
    "for word in selected_words:\n",
    "    num = products[word].sum()\n",
    "    print word,str(num)"
   ]
  },
  {
   "cell_type": "code",
   "execution_count": 23,
   "metadata": {
    "collapsed": false
   },
   "outputs": [
    {
     "name": "stdout",
     "output_type": "stream",
     "text": [
      "PROGRESS: Logistic regression:\n",
      "PROGRESS: --------------------------------------------------------\n",
      "PROGRESS: Number of examples          : 133448\n",
      "PROGRESS: Number of classes           : 2\n",
      "PROGRESS: Number of feature columns   : 11\n",
      "PROGRESS: Number of unpacked features : 11\n",
      "PROGRESS: Number of coefficients    : 12\n",
      "PROGRESS: Starting Newton Method\n",
      "PROGRESS: --------------------------------------------------------\n",
      "PROGRESS: +-----------+----------+--------------+-------------------+---------------------+\n",
      "PROGRESS: | Iteration | Passes   | Elapsed Time | Training-accuracy | Validation-accuracy |\n",
      "PROGRESS: +-----------+----------+--------------+-------------------+---------------------+\n",
      "PROGRESS: | 1         | 2        | 0.245270     | 0.844299          | 0.842842            |\n",
      "PROGRESS: | 2         | 3        | 0.401960     | 0.844186          | 0.842842            |\n",
      "PROGRESS: | 3         | 4        | 0.559254     | 0.844276          | 0.843142            |\n",
      "PROGRESS: | 4         | 5        | 0.720115     | 0.844269          | 0.843142            |\n",
      "PROGRESS: | 5         | 6        | 0.953936     | 0.844269          | 0.843142            |\n",
      "PROGRESS: | 6         | 7        | 1.124716     | 0.844269          | 0.843142            |\n",
      "PROGRESS: +-----------+----------+--------------+-------------------+---------------------+\n",
      "PROGRESS: SUCCESS: Optimal solution found.\n",
      "PROGRESS:\n"
     ]
    }
   ],
   "source": [
    "products = products[products['rating'] != 3]\n",
    "products['sentiment'] = products['rating'] >=4\n",
    "train_data,test_data = products.random_split(.8, seed=0)\n",
    "selected_words_model = graphlab.logistic_classifier.create(train_data,\n",
    "                                                     target='sentiment',\n",
    "                                                     features=selected_words,\n",
    "                                                     validation_set=test_data)"
   ]
  },
  {
   "cell_type": "code",
   "execution_count": 28,
   "metadata": {
    "collapsed": false
   },
   "outputs": [
    {
     "name": "stdout",
     "output_type": "stream",
     "text": [
      "+-----------+-------+-------+------------------+\n",
      "|    name   | index | class |      value       |\n",
      "+-----------+-------+-------+------------------+\n",
      "|  terrible |  None |   1   |  -2.09049998487  |\n",
      "|  horrible |  None |   1   |  -1.99651800559  |\n",
      "|   awful   |  None |   1   |  -1.76469955631  |\n",
      "|    hate   |  None |   1   |  -1.40916406276  |\n",
      "|    bad    |  None |   1   | -0.985827369929  |\n",
      "|    wow    |  None |   1   | -0.0541450123333 |\n",
      "|   great   |  None |   1   |  0.883937894898  |\n",
      "| fantastic |  None |   1   |  0.891303090304  |\n",
      "|  amazing  |  None |   1   |  0.892802422508  |\n",
      "|  awesome  |  None |   1   |  1.05800888878   |\n",
      "+-----------+-------+-------+------------------+\n",
      "[12 rows x 4 columns]\n",
      "Note: Only the head of the SFrame is printed.\n",
      "You can use print_rows(num_rows=m, num_columns=n) to print more rows and columns.\n"
     ]
    }
   ],
   "source": [
    "print selected_words_model['coefficients'].sort('value')"
   ]
  },
  {
   "cell_type": "code",
   "execution_count": 29,
   "metadata": {
    "collapsed": false
   },
   "outputs": [
    {
     "name": "stdout",
     "output_type": "stream",
     "text": [
      "{'index': None, 'name': 'terrible', 'value': -2.090499984872607, 'class': 1}\n",
      "{'index': None, 'name': 'love', 'value': 1.399898343017463, 'class': 1}\n"
     ]
    }
   ],
   "source": [
    "coefficient = selected_words_model['coefficients'].sort('value')\n",
    "print coefficient[0]\n",
    "print coefficient[-1]"
   ]
  },
  {
   "cell_type": "code",
   "execution_count": 32,
   "metadata": {
    "collapsed": false
   },
   "outputs": [
    {
     "name": "stdout",
     "output_type": "stream",
     "text": [
      "{'f1_score': 0.914242563530107, 'auc': 0.6648096413721418, 'recall': 0.9953531598513011, 'precision': 0.8453551912568306, 'log_loss': 0.4054747110365649, 'roc_curve': Columns:\n",
      "\tthreshold\tfloat\n",
      "\tfpr\tfloat\n",
      "\ttpr\tfloat\n",
      "\tp\tint\n",
      "\tn\tint\n",
      "\n",
      "Rows: 100001\n",
      "\n",
      "Data:\n",
      "+-----------+-----+-----+-------+------+\n",
      "| threshold | fpr | tpr |   p   |  n   |\n",
      "+-----------+-----+-----+-------+------+\n",
      "|    0.0    | 1.0 | 1.0 | 27976 | 5328 |\n",
      "|   1e-05   | 1.0 | 1.0 | 27976 | 5328 |\n",
      "|   2e-05   | 1.0 | 1.0 | 27976 | 5328 |\n",
      "|   3e-05   | 1.0 | 1.0 | 27976 | 5328 |\n",
      "|   4e-05   | 1.0 | 1.0 | 27976 | 5328 |\n",
      "|   5e-05   | 1.0 | 1.0 | 27976 | 5328 |\n",
      "|   6e-05   | 1.0 | 1.0 | 27976 | 5328 |\n",
      "|   7e-05   | 1.0 | 1.0 | 27976 | 5328 |\n",
      "|   8e-05   | 1.0 | 1.0 | 27976 | 5328 |\n",
      "|   9e-05   | 1.0 | 1.0 | 27976 | 5328 |\n",
      "+-----------+-----+-----+-------+------+\n",
      "[100001 rows x 5 columns]\n",
      "Note: Only the head of the SFrame is printed.\n",
      "You can use print_rows(num_rows=m, num_columns=n) to print more rows and columns., 'confusion_matrix': Columns:\n",
      "\ttarget_label\tint\n",
      "\tpredicted_label\tint\n",
      "\tcount\tint\n",
      "\n",
      "Rows: 4\n",
      "\n",
      "Data:\n",
      "+--------------+-----------------+-------+\n",
      "| target_label | predicted_label | count |\n",
      "+--------------+-----------------+-------+\n",
      "|      0       |        0        |  234  |\n",
      "|      0       |        1        |  5094 |\n",
      "|      1       |        1        | 27846 |\n",
      "|      1       |        0        |  130  |\n",
      "+--------------+-----------------+-------+\n",
      "[4 rows x 3 columns]\n",
      ", 'accuracy': 0.8431419649291376}\n"
     ]
    }
   ],
   "source": [
    "print selected_words_model.evaluate(test_data)"
   ]
  },
  {
   "cell_type": "code",
   "execution_count": 36,
   "metadata": {
    "collapsed": false
   },
   "outputs": [
    {
     "name": "stdout",
     "output_type": "stream",
     "text": [
      "PROGRESS: Logistic regression:\n",
      "PROGRESS: --------------------------------------------------------\n",
      "PROGRESS: Number of examples          : 133448\n",
      "PROGRESS: Number of classes           : 2\n",
      "PROGRESS: Number of feature columns   : 1\n",
      "PROGRESS: Number of unpacked features : 219217\n",
      "PROGRESS: Number of coefficients    : 219218\n",
      "PROGRESS: Starting L-BFGS\n",
      "PROGRESS: --------------------------------------------------------\n",
      "PROGRESS: +-----------+----------+-----------+--------------+-------------------+---------------------+\n",
      "PROGRESS: | Iteration | Passes   | Step size | Elapsed Time | Training-accuracy | Validation-accuracy |\n",
      "PROGRESS: +-----------+----------+-----------+--------------+-------------------+---------------------+\n",
      "PROGRESS: | 1         | 5        | 0.000002  | 2.310641     | 0.841481          | 0.839989            |\n",
      "PROGRESS: | 2         | 9        | 3.000000  | 4.340310     | 0.947425          | 0.894877            |\n",
      "PROGRESS: | 3         | 10       | 3.000000  | 5.136925     | 0.923768          | 0.866232            |\n",
      "PROGRESS: | 4         | 11       | 3.000000  | 5.937642     | 0.971779          | 0.912743            |\n",
      "PROGRESS: | 5         | 12       | 3.000000  | 6.714645     | 0.975511          | 0.908900            |\n",
      "PROGRESS: | 6         | 13       | 3.000000  | 7.491250     | 0.899991          | 0.825967            |\n",
      "PROGRESS: | 7         | 15       | 1.000000  | 8.718968     | 0.984548          | 0.921451            |\n",
      "PROGRESS: | 8         | 16       | 1.000000  | 9.502178     | 0.985118          | 0.921871            |\n",
      "PROGRESS: | 9         | 17       | 1.000000  | 10.296030    | 0.987066          | 0.919709            |\n",
      "PROGRESS: | 10        | 18       | 1.000000  | 11.080603    | 0.988715          | 0.916256            |\n",
      "PROGRESS: +-----------+----------+-----------+--------------+-------------------+---------------------+\n",
      "PROGRESS: TERMINATED: Iteration limit reached.\n",
      "PROGRESS: This model may not be optimal. To improve it, consider increasing `max_iterations`.\n",
      "{'f1_score': 0.9500349343413533, 'auc': 0.9446492867438502, 'recall': 0.9477766657134686, 'precision': 0.9523039902309378, 'log_loss': 0.26106698432422343, 'roc_curve': Columns:\n",
      "\tthreshold\tfloat\n",
      "\tfpr\tfloat\n",
      "\ttpr\tfloat\n",
      "\tp\tint\n",
      "\tn\tint\n",
      "\n",
      "Rows: 100001\n",
      "\n",
      "Data:\n",
      "+-----------+----------------+----------------+-------+------+\n",
      "| threshold |      fpr       |      tpr       |   p   |  n   |\n",
      "+-----------+----------------+----------------+-------+------+\n",
      "|    0.0    |      1.0       |      1.0       | 27976 | 5328 |\n",
      "|   1e-05   | 0.909346846847 | 0.998856162425 | 27976 | 5328 |\n",
      "|   2e-05   | 0.896021021021 | 0.998748927652 | 27976 | 5328 |\n",
      "|   3e-05   | 0.886448948949 | 0.998462968259 | 27976 | 5328 |\n",
      "|   4e-05   | 0.879692192192 | 0.998284243637 | 27976 | 5328 |\n",
      "|   5e-05   | 0.875187687688 | 0.998212753789 | 27976 | 5328 |\n",
      "|   6e-05   | 0.872184684685 | 0.998177008865 | 27976 | 5328 |\n",
      "|   7e-05   | 0.868618618619 | 0.998034029168 | 27976 | 5328 |\n",
      "|   8e-05   | 0.864677177177 | 0.997998284244 | 27976 | 5328 |\n",
      "|   9e-05   | 0.860735735736 | 0.997962539319 | 27976 | 5328 |\n",
      "+-----------+----------------+----------------+-------+------+\n",
      "[100001 rows x 5 columns]\n",
      "Note: Only the head of the SFrame is printed.\n",
      "You can use print_rows(num_rows=m, num_columns=n) to print more rows and columns., 'confusion_matrix': Columns:\n",
      "\ttarget_label\tint\n",
      "\tpredicted_label\tint\n",
      "\tcount\tint\n",
      "\n",
      "Rows: 4\n",
      "\n",
      "Data:\n",
      "+--------------+-----------------+-------+\n",
      "| target_label | predicted_label | count |\n",
      "+--------------+-----------------+-------+\n",
      "|      0       |        1        |  1328 |\n",
      "|      0       |        0        |  4000 |\n",
      "|      1       |        1        | 26515 |\n",
      "|      1       |        0        |  1461 |\n",
      "+--------------+-----------------+-------+\n",
      "[4 rows x 3 columns]\n",
      ", 'accuracy': 0.916256305548883}\n"
     ]
    }
   ],
   "source": [
    "sentiment_model = graphlab.logistic_classifier.create(train_data,\n",
    "                                                     target='sentiment',\n",
    "                                                     features=['word_count'],\n",
    "                                                     validation_set=test_data)\n",
    "print sentiment_model.evaluate(test_data)"
   ]
  },
  {
   "cell_type": "code",
   "execution_count": 43,
   "metadata": {
    "collapsed": false
   },
   "outputs": [
    {
     "name": "stdout",
     "output_type": "stream",
     "text": [
      "accuracy of marjority class classifier is 0.841123344847\n"
     ]
    }
   ],
   "source": [
    "#accuracy of the majority class classifier\n",
    "positive = len(products[products['sentiment']==1])\n",
    "total = len(products)\n",
    "print 'accuracy of marjority class classifier is', float(positive)/total"
   ]
  },
  {
   "cell_type": "code",
   "execution_count": 48,
   "metadata": {
    "collapsed": false
   },
   "outputs": [
    {
     "name": "stdout",
     "output_type": "stream",
     "text": [
      "+-------------------------+-------------------------------+--------+\n",
      "|           name          |             review            | rating |\n",
      "+-------------------------+-------------------------------+--------+\n",
      "| Baby Trend Diaper Champ | Baby Luke can turn a clean... |  5.0   |\n",
      "| Baby Trend Diaper Champ | I LOOOVE this diaper pail!... |  5.0   |\n",
      "| Baby Trend Diaper Champ | We researched all of the d... |  4.0   |\n",
      "| Baby Trend Diaper Champ | My baby is now 8 months an... |  5.0   |\n",
      "| Baby Trend Diaper Champ | This is absolutely, by far... |  5.0   |\n",
      "| Baby Trend Diaper Champ | Diaper Champ or Diaper Gen... |  5.0   |\n",
      "| Baby Trend Diaper Champ | Wow!  This is fabulous.  I... |  5.0   |\n",
      "| Baby Trend Diaper Champ | I originally put this item... |  5.0   |\n",
      "| Baby Trend Diaper Champ | Two girlfriends and two fa... |  5.0   |\n",
      "| Baby Trend Diaper Champ | I am one of those super-cr... |  5.0   |\n",
      "+-------------------------+-------------------------------+--------+\n",
      "+-------------------------------+---------+-------+-----------+---------+------+\n",
      "|           word_count          | awesome | great | fantastic | amazing | love |\n",
      "+-------------------------------+---------+-------+-----------+---------+------+\n",
      "| {'all': 1, 'less': 1, \"fri... |    0    |   0   |     0     |    0    |  0   |\n",
      "| {'just': 1, 'over': 1, 'rw... |    0    |   0   |     0     |    0    |  1   |\n",
      "| {'all': 2, 'just': 4, \"don... |    0    |   0   |     0     |    0    |  0   |\n",
      "| {\"don't\": 1, 'able': 2, 'o... |    0    |   2   |     0     |    0    |  0   |\n",
      "| {'just': 3, 'money': 1, 's... |    0    |   0   |     0     |    0    |  2   |\n",
      "| {'son': 2, 'all': 1, 'bags... |    0    |   0   |     0     |    0    |  0   |\n",
      "| {'and': 4, 'this': 3, 'sti... |    0    |   0   |     0     |    0    |  0   |\n",
      "| {'lysol': 1, 'all': 2, 'ba... |    0    |   0   |     0     |    0    |  0   |\n",
      "| {'just': 1, '-': 3, 'both'... |    0    |   0   |     0     |    0    |  0   |\n",
      "| {'all': 1, 'humid': 1, 'ju... |    0    |   0   |     0     |    0    |  1   |\n",
      "+-------------------------------+---------+-------+-----------+---------+------+\n",
      "+----------+-----+----------+-------+-----+------+-----------+---------------------+\n",
      "| horrible | bad | terrible | awful | wow | hate | sentiment | predicted_sentiment |\n",
      "+----------+-----+----------+-------+-----+------+-----------+---------------------+\n",
      "|    0     |  0  |    0     |   0   |  0  |  0   |     1     |    0.999999937267   |\n",
      "|    0     |  0  |    0     |   0   |  0  |  0   |     1     |    0.999999917406   |\n",
      "|    0     |  1  |    0     |   0   |  0  |  0   |     1     |    0.999999899509   |\n",
      "|    0     |  1  |    0     |   0   |  0  |  0   |     1     |    0.999999836182   |\n",
      "|    0     |  0  |    0     |   0   |  0  |  0   |     1     |    0.999999824745   |\n",
      "|    0     |  0  |    0     |   0   |  0  |  0   |     1     |    0.999999759315   |\n",
      "|    0     |  0  |    0     |   0   |  0  |  0   |     1     |    0.999999692111   |\n",
      "|    0     |  0  |    0     |   0   |  0  |  0   |     1     |    0.999999642488   |\n",
      "|    1     |  0  |    0     |   0   |  0  |  0   |     1     |    0.999999604504   |\n",
      "|    0     |  0  |    0     |   0   |  0  |  0   |     1     |    0.999999486804   |\n",
      "+----------+-----+----------+-------+-----+------+-----------+---------------------+\n",
      "[298 rows x 17 columns]\n",
      "Note: Only the head of the SFrame is printed.\n",
      "You can use print_rows(num_rows=m, num_columns=n) to print more rows and columns.\n"
     ]
    }
   ],
   "source": [
    "diaper_champ_reviews = products[products['name'] == 'Baby Trend Diaper Champ']\n",
    "diaper_champ_reviews['predicted_sentiment'] = sentiment_model.predict(diaper_champ_reviews, output_type='probability')\n",
    "diaper_champ_reviews = diaper_champ_reviews.sort('predicted_sentiment',ascending=False)\n",
    "print diaper_champ_reviews"
   ]
  },
  {
   "cell_type": "code",
   "execution_count": 54,
   "metadata": {
    "collapsed": false
   },
   "outputs": [
    {
     "data": {
      "text/plain": [
       "dtype: float\n",
       "Rows: 1\n",
       "[0.7969408512906712]"
      ]
     },
     "execution_count": 54,
     "metadata": {},
     "output_type": "execute_result"
    }
   ],
   "source": [
    "best_review = diaper_champ_reviews[0]\n",
    "selected_words_model.predict(best_review, output_type='probability')"
   ]
  },
  {
   "cell_type": "code",
   "execution_count": 50,
   "metadata": {
    "collapsed": false
   },
   "outputs": [
    {
     "name": "stdout",
     "output_type": "stream",
     "text": [
      "Baby Luke can turn a clean diaper to a dirty diaper in 3 seconds flat. The diaper champ turns the smelly diaper into \"what diaper smell\" in less time than that. I hesitated and wondered what I REALLY needed for the nursery. This is one of the best purchases we made. The champ, the baby bjorn, fluerville diaper bag, and graco pack and play bassinet all vie for the best baby purchase.Great product, easy to use, economical, effective, absolutly fabulous.UpdateI knew that I loved the champ, and useing the diaper genie at a friend's house REALLY reinforced that!! There is no comparison, the chanp is easy and smell free, the genie was difficult to use one handed (which is absolutly vital if you have a little one on a changing pad) and there was a deffinite odor eminating from the genieplus we found that the quick tie garbage bags where the ties are integrated into the bag work really well because there isn't any added bulk around the sealing edge of the champ.\n"
     ]
    }
   ],
   "source": [
    "print diaper_champ_reviews[0]['review']"
   ]
  },
  {
   "cell_type": "code",
   "execution_count": null,
   "metadata": {
    "collapsed": true
   },
   "outputs": [],
   "source": []
  }
 ],
 "metadata": {
  "kernelspec": {
   "display_name": "Python 2",
   "language": "python",
   "name": "python2"
  },
  "language_info": {
   "codemirror_mode": {
    "name": "ipython",
    "version": 2
   },
   "file_extension": ".py",
   "mimetype": "text/x-python",
   "name": "python",
   "nbconvert_exporter": "python",
   "pygments_lexer": "ipython2",
   "version": "2.7.11"
  }
 },
 "nbformat": 4,
 "nbformat_minor": 0
}
